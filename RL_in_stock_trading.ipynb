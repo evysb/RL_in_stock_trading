{
  "nbformat": 4,
  "nbformat_minor": 0,
  "metadata": {
    "accelerator": "GPU",
    "colab": {
      "provenance": [],
      "machine_shape": "hm",
      "include_colab_link": true
    },
    "kernelspec": {
      "display_name": "Python 3",
      "name": "python3"
    }
  },
  "cells": [
    {
      "cell_type": "markdown",
      "metadata": {
        "id": "view-in-github",
        "colab_type": "text"
      },
      "source": [
        "<a href=\"https://colab.research.google.com/github/evysb/RL_in_stock_trading/blob/main/RL_in_stock_trading.ipynb\" target=\"_parent\"><img src=\"https://colab.research.google.com/assets/colab-badge.svg\" alt=\"Open In Colab\"/></a>"
      ]
    },
    {
      "cell_type": "markdown",
      "metadata": {
        "id": "GKRBraeG1F-l"
      },
      "source": [
        "![Desenho sem título.jpg](data:image/jpeg;base64,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)\n",
        "\n",
        "O material neste repositório são scripts do Professor Jones Granatyr modificador por mim."
      ]
    },
    {
      "cell_type": "markdown",
      "metadata": {
        "id": "uue76gGk2_B7"
      },
      "source": [
        "## Instalar bibliotecas e montar drive do Google Drive"
      ]
    },
    {
      "cell_type": "code",
      "source": [
        "!pip install tensorflow==2.12.0rc0 #2.8.0"
      ],
      "metadata": {
        "id": "J2NOWqSfTkUY"
      },
      "execution_count": null,
      "outputs": []
    },
    {
      "cell_type": "code",
      "source": [
        "!pip show tensorflow"
      ],
      "metadata": {
        "id": "WsQIMJFjTmtK"
      },
      "execution_count": null,
      "outputs": []
    },
    {
      "cell_type": "code",
      "metadata": {
        "id": "UKhBXXnhZmpI"
      },
      "source": [
        "!pip install pandas-datareader==0.10.0\n",
        "!pip install yfinance==0.2.3\n",
        "'''\n",
        "CLICAR em restart runtime depois da instalação!!\n",
        "'''"
      ],
      "execution_count": null,
      "outputs": []
    },
    {
      "cell_type": "markdown",
      "metadata": {
        "id": "5FhAWPnH2xFE"
      },
      "source": [
        "### Tem algumas explicações de RL em negociação de ações aqui:\n",
        "\n",
        "https://www.analyticsvidhya.com/blog/2021/01/bear-run-or-bull-run-can-reinforcement-learning-help-in-automated-trading/\n",
        "\n",
        "Mas o código não é o mesmo!!"
      ]
    },
    {
      "cell_type": "code",
      "metadata": {
        "colab": {
          "base_uri": "https://localhost:8080/",
          "height": 216
        },
        "id": "L2yVuSF9ZvLL",
        "outputId": "7f1e9f94-ede8-4b64-c039-a147cdce25b2"
      },
      "source": [
        "# Montar drive no google drive!\n",
        "from google.colab import drive\n",
        "drive.mount('/content/drive')\n",
        "\n",
        "import os\n",
        "workdir_path = '/content/drive/My Drive'\n",
        "os.chdir(workdir_path)\n",
        "os.mkdir(\"models_rl\")\n",
        "os.chdir('/content/drive/My Drive/models_rl')"
      ],
      "execution_count": null,
      "outputs": [
        {
          "output_type": "stream",
          "name": "stdout",
          "text": [
            "Mounted at /content/drive\n"
          ]
        },
        {
          "output_type": "error",
          "ename": "FileExistsError",
          "evalue": "[Errno 17] File exists: 'models_rl'",
          "traceback": [
            "\u001b[0;31m---------------------------------------------------------------------------\u001b[0m",
            "\u001b[0;31mFileExistsError\u001b[0m                           Traceback (most recent call last)",
            "\u001b[0;32m<ipython-input-2-443dd062b87f>\u001b[0m in \u001b[0;36m<cell line: 8>\u001b[0;34m()\u001b[0m\n\u001b[1;32m      6\u001b[0m \u001b[0mworkdir_path\u001b[0m \u001b[0;34m=\u001b[0m \u001b[0;34m'/content/drive/My Drive'\u001b[0m\u001b[0;34m\u001b[0m\u001b[0;34m\u001b[0m\u001b[0m\n\u001b[1;32m      7\u001b[0m \u001b[0mos\u001b[0m\u001b[0;34m.\u001b[0m\u001b[0mchdir\u001b[0m\u001b[0;34m(\u001b[0m\u001b[0mworkdir_path\u001b[0m\u001b[0;34m)\u001b[0m\u001b[0;34m\u001b[0m\u001b[0;34m\u001b[0m\u001b[0m\n\u001b[0;32m----> 8\u001b[0;31m \u001b[0mos\u001b[0m\u001b[0;34m.\u001b[0m\u001b[0mmkdir\u001b[0m\u001b[0;34m(\u001b[0m\u001b[0;34m\"models_rl\"\u001b[0m\u001b[0;34m)\u001b[0m\u001b[0;34m\u001b[0m\u001b[0;34m\u001b[0m\u001b[0m\n\u001b[0m\u001b[1;32m      9\u001b[0m \u001b[0mos\u001b[0m\u001b[0;34m.\u001b[0m\u001b[0mchdir\u001b[0m\u001b[0;34m(\u001b[0m\u001b[0;34m'/content/drive/My Drive/models_rl'\u001b[0m\u001b[0;34m)\u001b[0m\u001b[0;34m\u001b[0m\u001b[0;34m\u001b[0m\u001b[0m\n",
            "\u001b[0;31mFileExistsError\u001b[0m: [Errno 17] File exists: 'models_rl'"
          ]
        }
      ]
    },
    {
      "cell_type": "code",
      "source": [
        "os.chdir('/content/drive/My Drive/models_rl')"
      ],
      "metadata": {
        "id": "z1KN5UkHlGxM"
      },
      "execution_count": null,
      "outputs": []
    },
    {
      "cell_type": "markdown",
      "metadata": {
        "id": "J0BVbvetGrlR"
      },
      "source": [
        "## Importar das bibliotecas"
      ]
    },
    {
      "cell_type": "code",
      "metadata": {
        "colab": {
          "base_uri": "https://localhost:8080/"
        },
        "id": "qALiMginGiMW",
        "outputId": "39c57f10-9cc9-48fa-f6da-953372a26323"
      },
      "source": [
        "import math\n",
        "import random\n",
        "import numpy as np\n",
        "import pandas as pd\n",
        "import tensorflow as tf\n",
        "import matplotlib.pyplot as plt\n",
        "import pandas_datareader as data_reader # usado para nao ter que baixar o csv\n",
        "#from pandas.util.testing import assert_frame_equal\n",
        "from pandas_datareader import data as pdr\n",
        "from datetime import datetime\n",
        "import yfinance as yfin\n",
        "\n",
        "\n",
        "yfin.pdr_override()\n",
        "\n",
        "from tqdm import tqdm_notebook, tqdm\n",
        "from collections import deque"
      ],
      "execution_count": null,
      "outputs": [
        {
          "output_type": "stream",
          "name": "stderr",
          "text": [
            "<ipython-input-4-e7feebe2a320>:8: FutureWarning: pandas.util.testing is deprecated. Use the functions in the public API at pandas.testing instead.\n",
            "  from pandas.util.testing import assert_frame_equal\n"
          ]
        }
      ]
    },
    {
      "cell_type": "code",
      "metadata": {
        "colab": {
          "base_uri": "https://localhost:8080/"
        },
        "id": "drGd9adHGuje",
        "outputId": "b5ed5cd4-fdbe-4f8b-a7ff-3193be44d36e"
      },
      "source": [
        "print(\"versão do TF \",tf.__version__)\n",
        "print(\"versão do Pandas \",pd.__version__)\n",
        "print(\"versão do pandas_datareader \", data_reader.__version__)\n",
        "\n",
        "'''\n",
        "versão do TF  2.8.0\n",
        "versão do Pandas  1.3.3\n",
        "versão do pandas_datareader  0.10.0\n",
        "'''"
      ],
      "execution_count": null,
      "outputs": [
        {
          "output_type": "stream",
          "name": "stdout",
          "text": [
            "versão do TF  2.8.0\n",
            "versão do Pandas  1.3.3\n",
            "versão do pandas_datareader  0.10.0\n"
          ]
        }
      ]
    },
    {
      "cell_type": "markdown",
      "metadata": {
        "id": "__E4SMMaGwqb"
      },
      "source": [
        "## Criação das funções que usaremos para treinar o modelo"
      ]
    },
    {
      "cell_type": "code",
      "metadata": {
        "id": "qV_UlZrLeSUk"
      },
      "source": [
        "class Agent():\n",
        "\n",
        "  def __init__(self, state_size, action_space = 3, continue_training=False):\n",
        "    self.state_size = state_size #depende do tamanho da janela (window_size)\n",
        "    self.action_space = action_space #acoes: compra, venda, faz nada\n",
        "    self.memory = deque(maxlen = 2000)\n",
        "    self.gamma = 0.95 #0.9\n",
        "    self.epsilon = 1.0\n",
        "    self.epsilon_final = 0.01\n",
        "    self.epsilon_decay = 0.995\n",
        "    self.model = self.get_model()\n",
        "\n",
        "  '''\n",
        "    Política\n",
        "  '''\n",
        "  def trade(self, state): #função que vai fazer a negociação, vai retornar as ações\n",
        "    if random.random() <= self.epsilon:\n",
        "      return random.randrange(self.action_space) # no inicio será aleatório\n",
        "\n",
        "    actions = self.model.predict(state) #depois usará as predição da rede\n",
        "    return np.argmax(actions[0])\n",
        "\n",
        "  '''\n",
        "    Cria a rede e compila - pode mudar conforme o necessário\n",
        "  '''\n",
        "  def get_model(self):\n",
        "    model = tf.keras.models.Sequential()\n",
        "    model.add(tf.keras.layers.Dense(units = 16, activation = \"relu\", input_dim = self.state_size))\n",
        "    model.add(tf.keras.layers.Dense(units = 32, activation = \"relu\"))\n",
        "    model.add(tf.keras.layers.Dense(units = 64, activation = \"relu\"))\n",
        "    model.add(tf.keras.layers.Dense(units = self.action_space, activation = \"linear\"))\n",
        "    model.compile(loss = \"mse\", optimizer = tf.keras.optimizers.Adam(lr = 0.001))\n",
        "    return model\n",
        "\n",
        "  '''\n",
        "    Treinamento da rede\n",
        "  '''\n",
        "  def train_on_batch(self, batch_size):\n",
        "    batch = []\n",
        "    for i in range(len(self.memory) - batch_size + 1, len(self.memory)): #pega as ultimas transações da memória\n",
        "      batch.append(self.memory[i])\n",
        "\n",
        "    for state, action, reward, next_state, done in batch:\n",
        "      if not done:\n",
        "        #Faz previsoes para o próximo estado\n",
        "        #self.model.predict(next_state)[0] -> valores de Q no estado next_state\n",
        "        #np.amax(self.model.predict(next_state)[0]) #busca ql maior valor de Q(s,a), ou seja, ql maior R\n",
        "        reward = reward + self.gamma * np.amax(self.model.predict(next_state)[0]) #Eq Bellman\n",
        "\n",
        "      target = self.model.predict(state)\n",
        "      target[0][action] = reward #associa a ação que levou a ter a reward calculada\n",
        "\n",
        "      self.model.fit(state, target, epochs=3, verbose=0) #TODO mudar ep\n",
        "\n",
        "    if self.epsilon > self.epsilon_final:\n",
        "      self.epsilon *= self.epsilon_decay\n"
      ],
      "execution_count": null,
      "outputs": []
    },
    {
      "cell_type": "markdown",
      "metadata": {
        "id": "7tcUyJMnS479"
      },
      "source": [
        "## Análise e pré-processamento da base de dados"
      ]
    },
    {
      "cell_type": "markdown",
      "metadata": {
        "id": "kK6UDGe0TACz"
      },
      "source": [
        "#### Sigmoid\n",
        "\n",
        "usado para normalizar entre 0 e 1"
      ]
    },
    {
      "cell_type": "markdown",
      "metadata": {
        "id": "CBLuIE4_DH6N"
      },
      "source": [
        "![image.png](data:image/png;base64,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)"
      ]
    },
    {
      "cell_type": "code",
      "metadata": {
        "id": "IzXG-49iSZX3"
      },
      "source": [
        "def sigmoid(z):\n",
        "  return 1 / (1 + math.exp(-z))"
      ],
      "execution_count": null,
      "outputs": []
    },
    {
      "cell_type": "code",
      "metadata": {
        "colab": {
          "base_uri": "https://localhost:8080/"
        },
        "id": "3kLpIoe6wMLQ",
        "outputId": "8bc54f41-71a5-4c82-b8d8-5ae38d3d0581"
      },
      "source": [
        "sigmoid(0.5)"
      ],
      "execution_count": null,
      "outputs": [
        {
          "output_type": "execute_result",
          "data": {
            "text/plain": [
              "0.6224593312018546"
            ]
          },
          "metadata": {},
          "execution_count": 8
        }
      ]
    },
    {
      "cell_type": "markdown",
      "metadata": {
        "id": "0VRbmx_OTDtZ"
      },
      "source": [
        "#### Formatação de preços\n",
        "\n",
        "verifica se está tendo lucro ou não e formata (deixa bonitinho)"
      ]
    },
    {
      "cell_type": "code",
      "metadata": {
        "id": "N8vVBL8YTGaE"
      },
      "source": [
        "def stocks_price_format(n):\n",
        "  if n < 0:\n",
        "    return \"- $ {0:2f}\".format(abs(n))\n",
        "  else:\n",
        "    return \"$ {0:2f}\".format(abs(n))"
      ],
      "execution_count": null,
      "outputs": []
    },
    {
      "cell_type": "code",
      "metadata": {
        "colab": {
          "base_uri": "https://localhost:8080/",
          "height": 35
        },
        "id": "3pH2jleGwSlG",
        "outputId": "716d4e48-ea79-4ab0-9405-bfa149478753"
      },
      "source": [
        "stocks_price_format(100)"
      ],
      "execution_count": null,
      "outputs": [
        {
          "output_type": "execute_result",
          "data": {
            "text/plain": [
              "'$ 100.000000'"
            ],
            "application/vnd.google.colaboratory.intrinsic+json": {
              "type": "string"
            }
          },
          "metadata": {},
          "execution_count": 10
        }
      ]
    },
    {
      "cell_type": "markdown",
      "metadata": {
        "id": "j8_bXTiFTHnH"
      },
      "source": [
        "#### Análise e criação da função de carregar a base de dados"
      ]
    },
    {
      "cell_type": "code",
      "metadata": {
        "id": "2bNOpbV2yjTK",
        "outputId": "7399f820-262f-4589-98c7-c11251319ba9",
        "colab": {
          "base_uri": "https://localhost:8080/"
        }
      },
      "source": [
        "import yfinance as yf\n",
        "\n",
        "# Baixar dados sem especificar intervalo\n",
        "dataset_total = yf.download(\"AAPL\", period=\"5y\")  # Últimos 5 anos de dados"
      ],
      "execution_count": null,
      "outputs": [
        {
          "output_type": "stream",
          "name": "stdout",
          "text": [
            "\r[*********************100%***********************]  1 of 1 completed\n"
          ]
        }
      ]
    },
    {
      "cell_type": "code",
      "metadata": {
        "id": "Zaisxtqsx1Ag"
      },
      "source": [
        "#pega só 1000 dados para treino e teste\n",
        "dataset = dataset_total[:1000]\n",
        "dataset_test = dataset_total[1000:]"
      ],
      "execution_count": null,
      "outputs": []
    },
    {
      "cell_type": "code",
      "metadata": {
        "colab": {
          "base_uri": "https://localhost:8080/",
          "height": 238
        },
        "id": "mef6ZW4w09_R",
        "outputId": "724298e1-86c8-462e-a7ec-d9090b2be09b"
      },
      "source": [
        "'''\n",
        "Quais dados temos:\n",
        "Date - data\n",
        "High - maior preço foi vendido no dia\n",
        "Low - menor preço foi vendido no dia\n",
        "Open - valor de abertura, qto que a ação valia no inicio do dia\n",
        "Close\t- valor de fechamento,  qto que a ação foi vendida no final do dia\n",
        "Volume - volume de ações que foram transacionadas nesse dia\n",
        "Adj Close - qto que valeria a ação considerando dividendos e outros fatores\n",
        "\n",
        "****AGORA so vamos utilizar apenas o close\n",
        "'''\n",
        "dataset.head()"
      ],
      "execution_count": null,
      "outputs": [
        {
          "output_type": "execute_result",
          "data": {
            "text/plain": [
              "                 Open       High        Low      Close  Adj Close     Volume\n",
              "Date                                                                        \n",
              "2016-12-01  27.592501  27.735001  27.257500  27.372499  25.377876  148347600\n",
              "2016-12-02  27.292500  27.522499  27.212500  27.475000  25.472906  106112000\n",
              "2016-12-05  27.500000  27.507500  27.062500  27.277500  25.289795  137298000\n",
              "2016-12-06  27.375000  27.590000  27.297501  27.487499  25.484493  104782000\n",
              "2016-12-07  27.315001  27.797501  27.290001  27.757500  25.734819  119994800"
            ],
            "text/html": [
              "\n",
              "  <div id=\"df-a2b3ae23-3697-4d1f-93ff-1ed1d57eb4c2\" class=\"colab-df-container\">\n",
              "    <div>\n",
              "<style scoped>\n",
              "    .dataframe tbody tr th:only-of-type {\n",
              "        vertical-align: middle;\n",
              "    }\n",
              "\n",
              "    .dataframe tbody tr th {\n",
              "        vertical-align: top;\n",
              "    }\n",
              "\n",
              "    .dataframe thead th {\n",
              "        text-align: right;\n",
              "    }\n",
              "</style>\n",
              "<table border=\"1\" class=\"dataframe\">\n",
              "  <thead>\n",
              "    <tr style=\"text-align: right;\">\n",
              "      <th></th>\n",
              "      <th>Open</th>\n",
              "      <th>High</th>\n",
              "      <th>Low</th>\n",
              "      <th>Close</th>\n",
              "      <th>Adj Close</th>\n",
              "      <th>Volume</th>\n",
              "    </tr>\n",
              "    <tr>\n",
              "      <th>Date</th>\n",
              "      <th></th>\n",
              "      <th></th>\n",
              "      <th></th>\n",
              "      <th></th>\n",
              "      <th></th>\n",
              "      <th></th>\n",
              "    </tr>\n",
              "  </thead>\n",
              "  <tbody>\n",
              "    <tr>\n",
              "      <th>2016-12-01</th>\n",
              "      <td>27.592501</td>\n",
              "      <td>27.735001</td>\n",
              "      <td>27.257500</td>\n",
              "      <td>27.372499</td>\n",
              "      <td>25.377876</td>\n",
              "      <td>148347600</td>\n",
              "    </tr>\n",
              "    <tr>\n",
              "      <th>2016-12-02</th>\n",
              "      <td>27.292500</td>\n",
              "      <td>27.522499</td>\n",
              "      <td>27.212500</td>\n",
              "      <td>27.475000</td>\n",
              "      <td>25.472906</td>\n",
              "      <td>106112000</td>\n",
              "    </tr>\n",
              "    <tr>\n",
              "      <th>2016-12-05</th>\n",
              "      <td>27.500000</td>\n",
              "      <td>27.507500</td>\n",
              "      <td>27.062500</td>\n",
              "      <td>27.277500</td>\n",
              "      <td>25.289795</td>\n",
              "      <td>137298000</td>\n",
              "    </tr>\n",
              "    <tr>\n",
              "      <th>2016-12-06</th>\n",
              "      <td>27.375000</td>\n",
              "      <td>27.590000</td>\n",
              "      <td>27.297501</td>\n",
              "      <td>27.487499</td>\n",
              "      <td>25.484493</td>\n",
              "      <td>104782000</td>\n",
              "    </tr>\n",
              "    <tr>\n",
              "      <th>2016-12-07</th>\n",
              "      <td>27.315001</td>\n",
              "      <td>27.797501</td>\n",
              "      <td>27.290001</td>\n",
              "      <td>27.757500</td>\n",
              "      <td>25.734819</td>\n",
              "      <td>119994800</td>\n",
              "    </tr>\n",
              "  </tbody>\n",
              "</table>\n",
              "</div>\n",
              "    <div class=\"colab-df-buttons\">\n",
              "\n",
              "  <div class=\"colab-df-container\">\n",
              "    <button class=\"colab-df-convert\" onclick=\"convertToInteractive('df-a2b3ae23-3697-4d1f-93ff-1ed1d57eb4c2')\"\n",
              "            title=\"Convert this dataframe to an interactive table.\"\n",
              "            style=\"display:none;\">\n",
              "\n",
              "  <svg xmlns=\"http://www.w3.org/2000/svg\" height=\"24px\" viewBox=\"0 -960 960 960\">\n",
              "    <path d=\"M120-120v-720h720v720H120Zm60-500h600v-160H180v160Zm220 220h160v-160H400v160Zm0 220h160v-160H400v160ZM180-400h160v-160H180v160Zm440 0h160v-160H620v160ZM180-180h160v-160H180v160Zm440 0h160v-160H620v160Z\"/>\n",
              "  </svg>\n",
              "    </button>\n",
              "\n",
              "  <style>\n",
              "    .colab-df-container {\n",
              "      display:flex;\n",
              "      gap: 12px;\n",
              "    }\n",
              "\n",
              "    .colab-df-convert {\n",
              "      background-color: #E8F0FE;\n",
              "      border: none;\n",
              "      border-radius: 50%;\n",
              "      cursor: pointer;\n",
              "      display: none;\n",
              "      fill: #1967D2;\n",
              "      height: 32px;\n",
              "      padding: 0 0 0 0;\n",
              "      width: 32px;\n",
              "    }\n",
              "\n",
              "    .colab-df-convert:hover {\n",
              "      background-color: #E2EBFA;\n",
              "      box-shadow: 0px 1px 2px rgba(60, 64, 67, 0.3), 0px 1px 3px 1px rgba(60, 64, 67, 0.15);\n",
              "      fill: #174EA6;\n",
              "    }\n",
              "\n",
              "    .colab-df-buttons div {\n",
              "      margin-bottom: 4px;\n",
              "    }\n",
              "\n",
              "    [theme=dark] .colab-df-convert {\n",
              "      background-color: #3B4455;\n",
              "      fill: #D2E3FC;\n",
              "    }\n",
              "\n",
              "    [theme=dark] .colab-df-convert:hover {\n",
              "      background-color: #434B5C;\n",
              "      box-shadow: 0px 1px 3px 1px rgba(0, 0, 0, 0.15);\n",
              "      filter: drop-shadow(0px 1px 2px rgba(0, 0, 0, 0.3));\n",
              "      fill: #FFFFFF;\n",
              "    }\n",
              "  </style>\n",
              "\n",
              "    <script>\n",
              "      const buttonEl =\n",
              "        document.querySelector('#df-a2b3ae23-3697-4d1f-93ff-1ed1d57eb4c2 button.colab-df-convert');\n",
              "      buttonEl.style.display =\n",
              "        google.colab.kernel.accessAllowed ? 'block' : 'none';\n",
              "\n",
              "      async function convertToInteractive(key) {\n",
              "        const element = document.querySelector('#df-a2b3ae23-3697-4d1f-93ff-1ed1d57eb4c2');\n",
              "        const dataTable =\n",
              "          await google.colab.kernel.invokeFunction('convertToInteractive',\n",
              "                                                    [key], {});\n",
              "        if (!dataTable) return;\n",
              "\n",
              "        const docLinkHtml = 'Like what you see? Visit the ' +\n",
              "          '<a target=\"_blank\" href=https://colab.research.google.com/notebooks/data_table.ipynb>data table notebook</a>'\n",
              "          + ' to learn more about interactive tables.';\n",
              "        element.innerHTML = '';\n",
              "        dataTable['output_type'] = 'display_data';\n",
              "        await google.colab.output.renderOutput(dataTable, element);\n",
              "        const docLink = document.createElement('div');\n",
              "        docLink.innerHTML = docLinkHtml;\n",
              "        element.appendChild(docLink);\n",
              "      }\n",
              "    </script>\n",
              "  </div>\n",
              "\n",
              "\n",
              "<div id=\"df-577940df-f8b2-496a-94b1-2f211aadf322\">\n",
              "  <button class=\"colab-df-quickchart\" onclick=\"quickchart('df-577940df-f8b2-496a-94b1-2f211aadf322')\"\n",
              "            title=\"Suggest charts\"\n",
              "            style=\"display:none;\">\n",
              "\n",
              "<svg xmlns=\"http://www.w3.org/2000/svg\" height=\"24px\"viewBox=\"0 0 24 24\"\n",
              "     width=\"24px\">\n",
              "    <g>\n",
              "        <path d=\"M19 3H5c-1.1 0-2 .9-2 2v14c0 1.1.9 2 2 2h14c1.1 0 2-.9 2-2V5c0-1.1-.9-2-2-2zM9 17H7v-7h2v7zm4 0h-2V7h2v10zm4 0h-2v-4h2v4z\"/>\n",
              "    </g>\n",
              "</svg>\n",
              "  </button>\n",
              "\n",
              "<style>\n",
              "  .colab-df-quickchart {\n",
              "      --bg-color: #E8F0FE;\n",
              "      --fill-color: #1967D2;\n",
              "      --hover-bg-color: #E2EBFA;\n",
              "      --hover-fill-color: #174EA6;\n",
              "      --disabled-fill-color: #AAA;\n",
              "      --disabled-bg-color: #DDD;\n",
              "  }\n",
              "\n",
              "  [theme=dark] .colab-df-quickchart {\n",
              "      --bg-color: #3B4455;\n",
              "      --fill-color: #D2E3FC;\n",
              "      --hover-bg-color: #434B5C;\n",
              "      --hover-fill-color: #FFFFFF;\n",
              "      --disabled-bg-color: #3B4455;\n",
              "      --disabled-fill-color: #666;\n",
              "  }\n",
              "\n",
              "  .colab-df-quickchart {\n",
              "    background-color: var(--bg-color);\n",
              "    border: none;\n",
              "    border-radius: 50%;\n",
              "    cursor: pointer;\n",
              "    display: none;\n",
              "    fill: var(--fill-color);\n",
              "    height: 32px;\n",
              "    padding: 0;\n",
              "    width: 32px;\n",
              "  }\n",
              "\n",
              "  .colab-df-quickchart:hover {\n",
              "    background-color: var(--hover-bg-color);\n",
              "    box-shadow: 0 1px 2px rgba(60, 64, 67, 0.3), 0 1px 3px 1px rgba(60, 64, 67, 0.15);\n",
              "    fill: var(--button-hover-fill-color);\n",
              "  }\n",
              "\n",
              "  .colab-df-quickchart-complete:disabled,\n",
              "  .colab-df-quickchart-complete:disabled:hover {\n",
              "    background-color: var(--disabled-bg-color);\n",
              "    fill: var(--disabled-fill-color);\n",
              "    box-shadow: none;\n",
              "  }\n",
              "\n",
              "  .colab-df-spinner {\n",
              "    border: 2px solid var(--fill-color);\n",
              "    border-color: transparent;\n",
              "    border-bottom-color: var(--fill-color);\n",
              "    animation:\n",
              "      spin 1s steps(1) infinite;\n",
              "  }\n",
              "\n",
              "  @keyframes spin {\n",
              "    0% {\n",
              "      border-color: transparent;\n",
              "      border-bottom-color: var(--fill-color);\n",
              "      border-left-color: var(--fill-color);\n",
              "    }\n",
              "    20% {\n",
              "      border-color: transparent;\n",
              "      border-left-color: var(--fill-color);\n",
              "      border-top-color: var(--fill-color);\n",
              "    }\n",
              "    30% {\n",
              "      border-color: transparent;\n",
              "      border-left-color: var(--fill-color);\n",
              "      border-top-color: var(--fill-color);\n",
              "      border-right-color: var(--fill-color);\n",
              "    }\n",
              "    40% {\n",
              "      border-color: transparent;\n",
              "      border-right-color: var(--fill-color);\n",
              "      border-top-color: var(--fill-color);\n",
              "    }\n",
              "    60% {\n",
              "      border-color: transparent;\n",
              "      border-right-color: var(--fill-color);\n",
              "    }\n",
              "    80% {\n",
              "      border-color: transparent;\n",
              "      border-right-color: var(--fill-color);\n",
              "      border-bottom-color: var(--fill-color);\n",
              "    }\n",
              "    90% {\n",
              "      border-color: transparent;\n",
              "      border-bottom-color: var(--fill-color);\n",
              "    }\n",
              "  }\n",
              "</style>\n",
              "\n",
              "  <script>\n",
              "    async function quickchart(key) {\n",
              "      const quickchartButtonEl =\n",
              "        document.querySelector('#' + key + ' button');\n",
              "      quickchartButtonEl.disabled = true;  // To prevent multiple clicks.\n",
              "      quickchartButtonEl.classList.add('colab-df-spinner');\n",
              "      try {\n",
              "        const charts = await google.colab.kernel.invokeFunction(\n",
              "            'suggestCharts', [key], {});\n",
              "      } catch (error) {\n",
              "        console.error('Error during call to suggestCharts:', error);\n",
              "      }\n",
              "      quickchartButtonEl.classList.remove('colab-df-spinner');\n",
              "      quickchartButtonEl.classList.add('colab-df-quickchart-complete');\n",
              "    }\n",
              "    (() => {\n",
              "      let quickchartButtonEl =\n",
              "        document.querySelector('#df-577940df-f8b2-496a-94b1-2f211aadf322 button');\n",
              "      quickchartButtonEl.style.display =\n",
              "        google.colab.kernel.accessAllowed ? 'block' : 'none';\n",
              "    })();\n",
              "  </script>\n",
              "</div>\n",
              "\n",
              "    </div>\n",
              "  </div>\n"
            ],
            "application/vnd.google.colaboratory.intrinsic+json": {
              "type": "dataframe",
              "variable_name": "dataset",
              "summary": "{\n  \"name\": \"dataset\",\n  \"rows\": 1000,\n  \"fields\": [\n    {\n      \"column\": \"Date\",\n      \"properties\": {\n        \"dtype\": \"date\",\n        \"min\": \"2016-12-01 00:00:00\",\n        \"max\": \"2020-11-19 00:00:00\",\n        \"num_unique_values\": 1000,\n        \"samples\": [\n          \"2018-12-28 00:00:00\",\n          \"2019-11-06 00:00:00\",\n          \"2019-11-11 00:00:00\"\n        ],\n        \"semantic_type\": \"\",\n        \"description\": \"\"\n      }\n    },\n    {\n      \"column\": \"Open\",\n      \"properties\": {\n        \"dtype\": \"number\",\n        \"std\": 23.04652029406896,\n        \"min\": 27.292499542236328,\n        \"max\": 137.58999633789062,\n        \"num_unique_values\": 967,\n        \"samples\": [\n          42.60749816894531,\n          54.79750061035156,\n          78.2925033569336\n        ],\n        \"semantic_type\": \"\",\n        \"description\": \"\"\n      }\n    },\n    {\n      \"column\": \"High\",\n      \"properties\": {\n        \"dtype\": \"number\",\n        \"std\": 23.44100782889193,\n        \"min\": 27.50749969482422,\n        \"max\": 137.97999572753906,\n        \"num_unique_values\": 956,\n        \"samples\": [\n          46.91749954223633,\n          96.31749725341797,\n          43.89250183105469\n        ],\n        \"semantic_type\": \"\",\n        \"description\": \"\"\n      }\n    },\n    {\n      \"column\": \"Low\",\n      \"properties\": {\n        \"dtype\": \"number\",\n        \"std\": 22.573532257922704,\n        \"min\": 27.0625,\n        \"max\": 130.52999877929688,\n        \"num_unique_values\": 967,\n        \"samples\": [\n          42.125,\n          49.54249954223633,\n          77.72750091552734\n        ],\n        \"semantic_type\": \"\",\n        \"description\": \"\"\n      }\n    },\n    {\n      \"column\": \"Close\",\n      \"properties\": {\n        \"dtype\": \"number\",\n        \"std\": 23.02145475568245,\n        \"min\": 27.27750015258789,\n        \"max\": 134.17999267578125,\n        \"num_unique_values\": 967,\n        \"samples\": [\n          42.45000076293945,\n          52.48749923706055,\n          77.38500213623047\n        ],\n        \"semantic_type\": \"\",\n        \"description\": \"\"\n      }\n    },\n    {\n      \"column\": \"Adj Close\",\n      \"properties\": {\n        \"dtype\": \"number\",\n        \"std\": 22.960523207044616,\n        \"min\": 25.289794921875,\n        \"max\": 131.12672424316406,\n        \"num_unique_values\": 987,\n        \"samples\": [\n          41.84101104736328,\n          34.08751678466797,\n          40.42262268066406\n        ],\n        \"semantic_type\": \"\",\n        \"description\": \"\"\n      }\n    },\n    {\n      \"column\": \"Volume\",\n      \"properties\": {\n        \"dtype\": \"number\",\n        \"std\": 58686097,\n        \"min\": 45448000,\n        \"max\": 447940000,\n        \"num_unique_values\": 997,\n        \"samples\": [\n          106435200,\n          126743200,\n          74795200\n        ],\n        \"semantic_type\": \"\",\n        \"description\": \"\"\n      }\n    }\n  ]\n}"
            }
          },
          "metadata": {},
          "execution_count": 13
        }
      ]
    },
    {
      "cell_type": "code",
      "metadata": {
        "colab": {
          "base_uri": "https://localhost:8080/",
          "height": 35
        },
        "id": "of2H_S1R2Aeq",
        "outputId": "70856c4a-af53-4b0a-d508-c34a333d8635"
      },
      "source": [
        "str(dataset.index[0]).split()[0]"
      ],
      "execution_count": null,
      "outputs": [
        {
          "output_type": "execute_result",
          "data": {
            "text/plain": [
              "'2016-12-01'"
            ],
            "application/vnd.google.colaboratory.intrinsic+json": {
              "type": "string"
            }
          },
          "metadata": {},
          "execution_count": 14
        }
      ]
    },
    {
      "cell_type": "code",
      "metadata": {
        "colab": {
          "base_uri": "https://localhost:8080/"
        },
        "id": "-aQGb62K2qa8",
        "outputId": "5ef89a72-0021-46a9-b919-4ec6bba655c6"
      },
      "source": [
        "dataset.index[-1]"
      ],
      "execution_count": null,
      "outputs": [
        {
          "output_type": "execute_result",
          "data": {
            "text/plain": [
              "Timestamp('2020-11-19 00:00:00')"
            ]
          },
          "metadata": {},
          "execution_count": 15
        }
      ]
    },
    {
      "cell_type": "code",
      "metadata": {
        "colab": {
          "base_uri": "https://localhost:8080/",
          "height": 490
        },
        "id": "myj5_5yj2-ka",
        "outputId": "62f5036b-374e-4eca-98bd-a1d9f1c71c9b"
      },
      "source": [
        "dataset['Close']"
      ],
      "execution_count": null,
      "outputs": [
        {
          "output_type": "execute_result",
          "data": {
            "text/plain": [
              "Date\n",
              "2016-12-01     27.372499\n",
              "2016-12-02     27.475000\n",
              "2016-12-05     27.277500\n",
              "2016-12-06     27.487499\n",
              "2016-12-07     27.757500\n",
              "                 ...    \n",
              "2020-11-13    119.260002\n",
              "2020-11-16    120.300003\n",
              "2020-11-17    119.389999\n",
              "2020-11-18    118.029999\n",
              "2020-11-19    118.639999\n",
              "Name: Close, Length: 1000, dtype: float64"
            ],
            "text/html": [
              "<div>\n",
              "<style scoped>\n",
              "    .dataframe tbody tr th:only-of-type {\n",
              "        vertical-align: middle;\n",
              "    }\n",
              "\n",
              "    .dataframe tbody tr th {\n",
              "        vertical-align: top;\n",
              "    }\n",
              "\n",
              "    .dataframe thead th {\n",
              "        text-align: right;\n",
              "    }\n",
              "</style>\n",
              "<table border=\"1\" class=\"dataframe\">\n",
              "  <thead>\n",
              "    <tr style=\"text-align: right;\">\n",
              "      <th></th>\n",
              "      <th>Close</th>\n",
              "    </tr>\n",
              "    <tr>\n",
              "      <th>Date</th>\n",
              "      <th></th>\n",
              "    </tr>\n",
              "  </thead>\n",
              "  <tbody>\n",
              "    <tr>\n",
              "      <th>2016-12-01</th>\n",
              "      <td>27.372499</td>\n",
              "    </tr>\n",
              "    <tr>\n",
              "      <th>2016-12-02</th>\n",
              "      <td>27.475000</td>\n",
              "    </tr>\n",
              "    <tr>\n",
              "      <th>2016-12-05</th>\n",
              "      <td>27.277500</td>\n",
              "    </tr>\n",
              "    <tr>\n",
              "      <th>2016-12-06</th>\n",
              "      <td>27.487499</td>\n",
              "    </tr>\n",
              "    <tr>\n",
              "      <th>2016-12-07</th>\n",
              "      <td>27.757500</td>\n",
              "    </tr>\n",
              "    <tr>\n",
              "      <th>...</th>\n",
              "      <td>...</td>\n",
              "    </tr>\n",
              "    <tr>\n",
              "      <th>2020-11-13</th>\n",
              "      <td>119.260002</td>\n",
              "    </tr>\n",
              "    <tr>\n",
              "      <th>2020-11-16</th>\n",
              "      <td>120.300003</td>\n",
              "    </tr>\n",
              "    <tr>\n",
              "      <th>2020-11-17</th>\n",
              "      <td>119.389999</td>\n",
              "    </tr>\n",
              "    <tr>\n",
              "      <th>2020-11-18</th>\n",
              "      <td>118.029999</td>\n",
              "    </tr>\n",
              "    <tr>\n",
              "      <th>2020-11-19</th>\n",
              "      <td>118.639999</td>\n",
              "    </tr>\n",
              "  </tbody>\n",
              "</table>\n",
              "<p>1000 rows × 1 columns</p>\n",
              "</div><br><label><b>dtype:</b> float64</label>"
            ]
          },
          "metadata": {},
          "execution_count": 16
        }
      ]
    },
    {
      "cell_type": "code",
      "metadata": {
        "id": "n0fpuTNQ1tOP"
      },
      "source": [
        "def dataset_loader(dataset):\n",
        "  #TODO pegar outros além do Close\n",
        "  close = dataset['Close']\n",
        "  return close"
      ],
      "execution_count": null,
      "outputs": []
    },
    {
      "cell_type": "markdown",
      "metadata": {
        "id": "eG5ueRzH1Kh8"
      },
      "source": [
        "### Criador de estados - com janelamento"
      ]
    },
    {
      "cell_type": "code",
      "metadata": {
        "colab": {
          "base_uri": "https://localhost:8080/"
        },
        "id": "iMbqIpLq9Ee2",
        "outputId": "99245edd-c885-470a-f0ea-a854bd9237ec"
      },
      "source": [
        "0 - 5 + 1"
      ],
      "execution_count": null,
      "outputs": [
        {
          "output_type": "execute_result",
          "data": {
            "text/plain": [
              "-4"
            ]
          },
          "metadata": {},
          "execution_count": 18
        }
      ]
    },
    {
      "cell_type": "code",
      "metadata": {
        "colab": {
          "base_uri": "https://localhost:8080/"
        },
        "id": "ii_VUJlN9KeI",
        "outputId": "86c26bc1-5d14-4507-d32d-a9dad862fb6f"
      },
      "source": [
        "20 - 5 + 1"
      ],
      "execution_count": null,
      "outputs": [
        {
          "output_type": "execute_result",
          "data": {
            "text/plain": [
              "16"
            ]
          },
          "metadata": {},
          "execution_count": 19
        }
      ]
    },
    {
      "cell_type": "code",
      "metadata": {
        "colab": {
          "base_uri": "https://localhost:8080/",
          "height": 238
        },
        "id": "26nd_oRH9iP7",
        "outputId": "4ef00bbe-4b09-4a44-ca17-4deddc77cede"
      },
      "source": [
        "dataset[16:21]"
      ],
      "execution_count": null,
      "outputs": [
        {
          "output_type": "execute_result",
          "data": {
            "text/plain": [
              "                 Open       High        Low      Close  Adj Close     Volume\n",
              "Date                                                                        \n",
              "2016-12-23  28.897499  29.129999  28.897499  29.129999  27.007307   56998000\n",
              "2016-12-27  29.129999  29.450001  29.122499  29.315001  27.178827   73187600\n",
              "2016-12-28  29.379999  29.504999  29.049999  29.190001  27.062935   83623600\n",
              "2016-12-29  29.112499  29.277500  29.100000  29.182501  27.055983   60158000\n",
              "2016-12-30  29.162500  29.299999  28.857500  28.955000  26.845058  122345200"
            ],
            "text/html": [
              "\n",
              "  <div id=\"df-3ed96016-ff58-4ee6-a165-f81523d55daf\" class=\"colab-df-container\">\n",
              "    <div>\n",
              "<style scoped>\n",
              "    .dataframe tbody tr th:only-of-type {\n",
              "        vertical-align: middle;\n",
              "    }\n",
              "\n",
              "    .dataframe tbody tr th {\n",
              "        vertical-align: top;\n",
              "    }\n",
              "\n",
              "    .dataframe thead th {\n",
              "        text-align: right;\n",
              "    }\n",
              "</style>\n",
              "<table border=\"1\" class=\"dataframe\">\n",
              "  <thead>\n",
              "    <tr style=\"text-align: right;\">\n",
              "      <th></th>\n",
              "      <th>Open</th>\n",
              "      <th>High</th>\n",
              "      <th>Low</th>\n",
              "      <th>Close</th>\n",
              "      <th>Adj Close</th>\n",
              "      <th>Volume</th>\n",
              "    </tr>\n",
              "    <tr>\n",
              "      <th>Date</th>\n",
              "      <th></th>\n",
              "      <th></th>\n",
              "      <th></th>\n",
              "      <th></th>\n",
              "      <th></th>\n",
              "      <th></th>\n",
              "    </tr>\n",
              "  </thead>\n",
              "  <tbody>\n",
              "    <tr>\n",
              "      <th>2016-12-23</th>\n",
              "      <td>28.897499</td>\n",
              "      <td>29.129999</td>\n",
              "      <td>28.897499</td>\n",
              "      <td>29.129999</td>\n",
              "      <td>27.007307</td>\n",
              "      <td>56998000</td>\n",
              "    </tr>\n",
              "    <tr>\n",
              "      <th>2016-12-27</th>\n",
              "      <td>29.129999</td>\n",
              "      <td>29.450001</td>\n",
              "      <td>29.122499</td>\n",
              "      <td>29.315001</td>\n",
              "      <td>27.178827</td>\n",
              "      <td>73187600</td>\n",
              "    </tr>\n",
              "    <tr>\n",
              "      <th>2016-12-28</th>\n",
              "      <td>29.379999</td>\n",
              "      <td>29.504999</td>\n",
              "      <td>29.049999</td>\n",
              "      <td>29.190001</td>\n",
              "      <td>27.062935</td>\n",
              "      <td>83623600</td>\n",
              "    </tr>\n",
              "    <tr>\n",
              "      <th>2016-12-29</th>\n",
              "      <td>29.112499</td>\n",
              "      <td>29.277500</td>\n",
              "      <td>29.100000</td>\n",
              "      <td>29.182501</td>\n",
              "      <td>27.055983</td>\n",
              "      <td>60158000</td>\n",
              "    </tr>\n",
              "    <tr>\n",
              "      <th>2016-12-30</th>\n",
              "      <td>29.162500</td>\n",
              "      <td>29.299999</td>\n",
              "      <td>28.857500</td>\n",
              "      <td>28.955000</td>\n",
              "      <td>26.845058</td>\n",
              "      <td>122345200</td>\n",
              "    </tr>\n",
              "  </tbody>\n",
              "</table>\n",
              "</div>\n",
              "    <div class=\"colab-df-buttons\">\n",
              "\n",
              "  <div class=\"colab-df-container\">\n",
              "    <button class=\"colab-df-convert\" onclick=\"convertToInteractive('df-3ed96016-ff58-4ee6-a165-f81523d55daf')\"\n",
              "            title=\"Convert this dataframe to an interactive table.\"\n",
              "            style=\"display:none;\">\n",
              "\n",
              "  <svg xmlns=\"http://www.w3.org/2000/svg\" height=\"24px\" viewBox=\"0 -960 960 960\">\n",
              "    <path d=\"M120-120v-720h720v720H120Zm60-500h600v-160H180v160Zm220 220h160v-160H400v160Zm0 220h160v-160H400v160ZM180-400h160v-160H180v160Zm440 0h160v-160H620v160ZM180-180h160v-160H180v160Zm440 0h160v-160H620v160Z\"/>\n",
              "  </svg>\n",
              "    </button>\n",
              "\n",
              "  <style>\n",
              "    .colab-df-container {\n",
              "      display:flex;\n",
              "      gap: 12px;\n",
              "    }\n",
              "\n",
              "    .colab-df-convert {\n",
              "      background-color: #E8F0FE;\n",
              "      border: none;\n",
              "      border-radius: 50%;\n",
              "      cursor: pointer;\n",
              "      display: none;\n",
              "      fill: #1967D2;\n",
              "      height: 32px;\n",
              "      padding: 0 0 0 0;\n",
              "      width: 32px;\n",
              "    }\n",
              "\n",
              "    .colab-df-convert:hover {\n",
              "      background-color: #E2EBFA;\n",
              "      box-shadow: 0px 1px 2px rgba(60, 64, 67, 0.3), 0px 1px 3px 1px rgba(60, 64, 67, 0.15);\n",
              "      fill: #174EA6;\n",
              "    }\n",
              "\n",
              "    .colab-df-buttons div {\n",
              "      margin-bottom: 4px;\n",
              "    }\n",
              "\n",
              "    [theme=dark] .colab-df-convert {\n",
              "      background-color: #3B4455;\n",
              "      fill: #D2E3FC;\n",
              "    }\n",
              "\n",
              "    [theme=dark] .colab-df-convert:hover {\n",
              "      background-color: #434B5C;\n",
              "      box-shadow: 0px 1px 3px 1px rgba(0, 0, 0, 0.15);\n",
              "      filter: drop-shadow(0px 1px 2px rgba(0, 0, 0, 0.3));\n",
              "      fill: #FFFFFF;\n",
              "    }\n",
              "  </style>\n",
              "\n",
              "    <script>\n",
              "      const buttonEl =\n",
              "        document.querySelector('#df-3ed96016-ff58-4ee6-a165-f81523d55daf button.colab-df-convert');\n",
              "      buttonEl.style.display =\n",
              "        google.colab.kernel.accessAllowed ? 'block' : 'none';\n",
              "\n",
              "      async function convertToInteractive(key) {\n",
              "        const element = document.querySelector('#df-3ed96016-ff58-4ee6-a165-f81523d55daf');\n",
              "        const dataTable =\n",
              "          await google.colab.kernel.invokeFunction('convertToInteractive',\n",
              "                                                    [key], {});\n",
              "        if (!dataTable) return;\n",
              "\n",
              "        const docLinkHtml = 'Like what you see? Visit the ' +\n",
              "          '<a target=\"_blank\" href=https://colab.research.google.com/notebooks/data_table.ipynb>data table notebook</a>'\n",
              "          + ' to learn more about interactive tables.';\n",
              "        element.innerHTML = '';\n",
              "        dataTable['output_type'] = 'display_data';\n",
              "        await google.colab.output.renderOutput(dataTable, element);\n",
              "        const docLink = document.createElement('div');\n",
              "        docLink.innerHTML = docLinkHtml;\n",
              "        element.appendChild(docLink);\n",
              "      }\n",
              "    </script>\n",
              "  </div>\n",
              "\n",
              "\n",
              "<div id=\"df-6707574b-0328-41d8-b141-8b4588fcb330\">\n",
              "  <button class=\"colab-df-quickchart\" onclick=\"quickchart('df-6707574b-0328-41d8-b141-8b4588fcb330')\"\n",
              "            title=\"Suggest charts\"\n",
              "            style=\"display:none;\">\n",
              "\n",
              "<svg xmlns=\"http://www.w3.org/2000/svg\" height=\"24px\"viewBox=\"0 0 24 24\"\n",
              "     width=\"24px\">\n",
              "    <g>\n",
              "        <path d=\"M19 3H5c-1.1 0-2 .9-2 2v14c0 1.1.9 2 2 2h14c1.1 0 2-.9 2-2V5c0-1.1-.9-2-2-2zM9 17H7v-7h2v7zm4 0h-2V7h2v10zm4 0h-2v-4h2v4z\"/>\n",
              "    </g>\n",
              "</svg>\n",
              "  </button>\n",
              "\n",
              "<style>\n",
              "  .colab-df-quickchart {\n",
              "      --bg-color: #E8F0FE;\n",
              "      --fill-color: #1967D2;\n",
              "      --hover-bg-color: #E2EBFA;\n",
              "      --hover-fill-color: #174EA6;\n",
              "      --disabled-fill-color: #AAA;\n",
              "      --disabled-bg-color: #DDD;\n",
              "  }\n",
              "\n",
              "  [theme=dark] .colab-df-quickchart {\n",
              "      --bg-color: #3B4455;\n",
              "      --fill-color: #D2E3FC;\n",
              "      --hover-bg-color: #434B5C;\n",
              "      --hover-fill-color: #FFFFFF;\n",
              "      --disabled-bg-color: #3B4455;\n",
              "      --disabled-fill-color: #666;\n",
              "  }\n",
              "\n",
              "  .colab-df-quickchart {\n",
              "    background-color: var(--bg-color);\n",
              "    border: none;\n",
              "    border-radius: 50%;\n",
              "    cursor: pointer;\n",
              "    display: none;\n",
              "    fill: var(--fill-color);\n",
              "    height: 32px;\n",
              "    padding: 0;\n",
              "    width: 32px;\n",
              "  }\n",
              "\n",
              "  .colab-df-quickchart:hover {\n",
              "    background-color: var(--hover-bg-color);\n",
              "    box-shadow: 0 1px 2px rgba(60, 64, 67, 0.3), 0 1px 3px 1px rgba(60, 64, 67, 0.15);\n",
              "    fill: var(--button-hover-fill-color);\n",
              "  }\n",
              "\n",
              "  .colab-df-quickchart-complete:disabled,\n",
              "  .colab-df-quickchart-complete:disabled:hover {\n",
              "    background-color: var(--disabled-bg-color);\n",
              "    fill: var(--disabled-fill-color);\n",
              "    box-shadow: none;\n",
              "  }\n",
              "\n",
              "  .colab-df-spinner {\n",
              "    border: 2px solid var(--fill-color);\n",
              "    border-color: transparent;\n",
              "    border-bottom-color: var(--fill-color);\n",
              "    animation:\n",
              "      spin 1s steps(1) infinite;\n",
              "  }\n",
              "\n",
              "  @keyframes spin {\n",
              "    0% {\n",
              "      border-color: transparent;\n",
              "      border-bottom-color: var(--fill-color);\n",
              "      border-left-color: var(--fill-color);\n",
              "    }\n",
              "    20% {\n",
              "      border-color: transparent;\n",
              "      border-left-color: var(--fill-color);\n",
              "      border-top-color: var(--fill-color);\n",
              "    }\n",
              "    30% {\n",
              "      border-color: transparent;\n",
              "      border-left-color: var(--fill-color);\n",
              "      border-top-color: var(--fill-color);\n",
              "      border-right-color: var(--fill-color);\n",
              "    }\n",
              "    40% {\n",
              "      border-color: transparent;\n",
              "      border-right-color: var(--fill-color);\n",
              "      border-top-color: var(--fill-color);\n",
              "    }\n",
              "    60% {\n",
              "      border-color: transparent;\n",
              "      border-right-color: var(--fill-color);\n",
              "    }\n",
              "    80% {\n",
              "      border-color: transparent;\n",
              "      border-right-color: var(--fill-color);\n",
              "      border-bottom-color: var(--fill-color);\n",
              "    }\n",
              "    90% {\n",
              "      border-color: transparent;\n",
              "      border-bottom-color: var(--fill-color);\n",
              "    }\n",
              "  }\n",
              "</style>\n",
              "\n",
              "  <script>\n",
              "    async function quickchart(key) {\n",
              "      const quickchartButtonEl =\n",
              "        document.querySelector('#' + key + ' button');\n",
              "      quickchartButtonEl.disabled = true;  // To prevent multiple clicks.\n",
              "      quickchartButtonEl.classList.add('colab-df-spinner');\n",
              "      try {\n",
              "        const charts = await google.colab.kernel.invokeFunction(\n",
              "            'suggestCharts', [key], {});\n",
              "      } catch (error) {\n",
              "        console.error('Error during call to suggestCharts:', error);\n",
              "      }\n",
              "      quickchartButtonEl.classList.remove('colab-df-spinner');\n",
              "      quickchartButtonEl.classList.add('colab-df-quickchart-complete');\n",
              "    }\n",
              "    (() => {\n",
              "      let quickchartButtonEl =\n",
              "        document.querySelector('#df-6707574b-0328-41d8-b141-8b4588fcb330 button');\n",
              "      quickchartButtonEl.style.display =\n",
              "        google.colab.kernel.accessAllowed ? 'block' : 'none';\n",
              "    })();\n",
              "  </script>\n",
              "</div>\n",
              "\n",
              "    </div>\n",
              "  </div>\n"
            ],
            "application/vnd.google.colaboratory.intrinsic+json": {
              "type": "dataframe",
              "summary": "{\n  \"name\": \"dataset[16:21]\",\n  \"rows\": 5,\n  \"fields\": [\n    {\n      \"column\": \"Date\",\n      \"properties\": {\n        \"dtype\": \"date\",\n        \"min\": \"2016-12-23 00:00:00\",\n        \"max\": \"2016-12-30 00:00:00\",\n        \"num_unique_values\": 5,\n        \"samples\": [\n          \"2016-12-27 00:00:00\",\n          \"2016-12-30 00:00:00\",\n          \"2016-12-28 00:00:00\"\n        ],\n        \"semantic_type\": \"\",\n        \"description\": \"\"\n      }\n    },\n    {\n      \"column\": \"Open\",\n      \"properties\": {\n        \"dtype\": \"number\",\n        \"std\": 0.17154270334537894,\n        \"min\": 28.897499084472656,\n        \"max\": 29.3799991607666,\n        \"num_unique_values\": 5,\n        \"samples\": [\n          29.1299991607666,\n          29.162500381469727,\n          29.3799991607666\n        ],\n        \"semantic_type\": \"\",\n        \"description\": \"\"\n      }\n    },\n    {\n      \"column\": \"High\",\n      \"properties\": {\n        \"dtype\": \"number\",\n        \"std\": 0.1488709696795368,\n        \"min\": 29.1299991607666,\n        \"max\": 29.5049991607666,\n        \"num_unique_values\": 5,\n        \"samples\": [\n          29.450000762939453,\n          29.299999237060547,\n          29.5049991607666\n        ],\n        \"semantic_type\": \"\",\n        \"description\": \"\"\n      }\n    },\n    {\n      \"column\": \"Low\",\n      \"properties\": {\n        \"dtype\": \"number\",\n        \"std\": 0.12058975329482186,\n        \"min\": 28.857500076293945,\n        \"max\": 29.122499465942383,\n        \"num_unique_values\": 5,\n        \"samples\": [\n          29.122499465942383,\n          28.857500076293945,\n          29.049999237060547\n        ],\n        \"semantic_type\": \"\",\n        \"description\": \"\"\n      }\n    },\n    {\n      \"column\": \"Close\",\n      \"properties\": {\n        \"dtype\": \"number\",\n        \"std\": 0.13058074888087934,\n        \"min\": 28.954999923706055,\n        \"max\": 29.315000534057617,\n        \"num_unique_values\": 5,\n        \"samples\": [\n          29.315000534057617,\n          28.954999923706055,\n          29.190000534057617\n        ],\n        \"semantic_type\": \"\",\n        \"description\": \"\"\n      }\n    },\n    {\n      \"column\": \"Adj Close\",\n      \"properties\": {\n        \"dtype\": \"number\",\n        \"std\": 0.12106579780895599,\n        \"min\": 26.84505844116211,\n        \"max\": 27.1788272857666,\n        \"num_unique_values\": 5,\n        \"samples\": [\n          27.1788272857666,\n          26.84505844116211,\n          27.06293487548828\n        ],\n        \"semantic_type\": \"\",\n        \"description\": \"\"\n      }\n    },\n    {\n      \"column\": \"Volume\",\n      \"properties\": {\n        \"dtype\": \"number\",\n        \"std\": 26328371,\n        \"min\": 56998000,\n        \"max\": 122345200,\n        \"num_unique_values\": 5,\n        \"samples\": [\n          73187600,\n          122345200,\n          83623600\n        ],\n        \"semantic_type\": \"\",\n        \"description\": \"\"\n      }\n    }\n  ]\n}"
            }
          },
          "metadata": {},
          "execution_count": 20
        }
      ]
    },
    {
      "cell_type": "code",
      "metadata": {
        "id": "D0rX3jY48WaQ"
      },
      "source": [
        "#vai fazer D - D' para capturar a tendencia, se sobe ou não o número\n",
        "#se identifica que a tendencia é subir o preço, o agente nao vai comprar\n",
        "\n",
        "'''\n",
        "        state                       target\n",
        "[30.2 , 32.4 , [...], 40.7 , 53.5] [46.1]\n",
        "subtraindo...\n",
        "32.4 - 30.2 = 2.2\n",
        "32.4 - ... = ...\n",
        "53.5 - 40.7 = 12.8\n",
        "'''\n",
        "\n",
        "def state_creator(data, timestep, window_size):\n",
        "  starting_id = timestep - window_size + 1 # da onde vai começar a pegar os dados na base\n",
        "\n",
        "  if starting_id >= 0:\n",
        "    windowed_data = data[starting_id:timestep + 1]\n",
        "  else:\n",
        "    windowed_data = - starting_id * [data[0]] + list(data[0:timestep + 1]) #vai repetir os valores de starting_id for negativo\n",
        "\n",
        "  state = []\n",
        "  for i in range(window_size - 1):\n",
        "    state.append(sigmoid(windowed_data[i + 1] - windowed_data[i])) #normaliza dos dados e os subtrai\n",
        "\n",
        "  return np.array([state]), windowed_data"
      ],
      "execution_count": null,
      "outputs": []
    },
    {
      "cell_type": "markdown",
      "metadata": {
        "id": "sV2a68QC34N-"
      },
      "source": [
        "### Loading da base de dados"
      ]
    },
    {
      "cell_type": "code",
      "metadata": {
        "id": "ye-U_gaNCFcz"
      },
      "source": [
        "data = dataset_loader(dataset) #LEMBRANDO: so tem close!"
      ],
      "execution_count": null,
      "outputs": []
    },
    {
      "cell_type": "code",
      "metadata": {
        "id": "TdPaSl0rygxA"
      },
      "source": [
        "data_test = dataset_loader(dataset_test) #so tem close!"
      ],
      "execution_count": null,
      "outputs": []
    },
    {
      "cell_type": "code",
      "metadata": {
        "id": "q36_uruXCNjI"
      },
      "source": [
        "s, w = state_creator(data, 0, 5)"
      ],
      "execution_count": null,
      "outputs": []
    },
    {
      "cell_type": "code",
      "metadata": {
        "colab": {
          "base_uri": "https://localhost:8080/"
        },
        "id": "BzpDmRHmCl1k",
        "outputId": "82350a78-e23e-48e9-ebfd-44fdc9a630f1"
      },
      "source": [
        "s"
      ],
      "execution_count": null,
      "outputs": [
        {
          "output_type": "execute_result",
          "data": {
            "text/plain": [
              "array([[0.5, 0.5, 0.5, 0.5]])"
            ]
          },
          "metadata": {},
          "execution_count": 25
        }
      ]
    },
    {
      "cell_type": "code",
      "metadata": {
        "colab": {
          "base_uri": "https://localhost:8080/"
        },
        "id": "cWb7euNCCnsS",
        "outputId": "a5f9a151-959a-47f2-ba2c-e9f5de72cb8e"
      },
      "source": [
        "w"
      ],
      "execution_count": null,
      "outputs": [
        {
          "output_type": "execute_result",
          "data": {
            "text/plain": [
              "[27.372499465942383,\n",
              " 27.372499465942383,\n",
              " 27.372499465942383,\n",
              " 27.372499465942383,\n",
              " 27.372499465942383]"
            ]
          },
          "metadata": {},
          "execution_count": 26
        }
      ]
    },
    {
      "cell_type": "markdown",
      "metadata": {
        "id": "k_KUeBY14o8Z"
      },
      "source": [
        "## Fase de Treinamento:"
      ]
    },
    {
      "cell_type": "markdown",
      "metadata": {
        "id": "hkyW12-L4qo_"
      },
      "source": [
        "### Configuração dos hyper parâmetros"
      ]
    },
    {
      "cell_type": "code",
      "metadata": {
        "id": "jt1Z8b8iKH9t"
      },
      "source": [
        "window_size = 10 #com 10 numeros, quer prever se compra ou nao\n",
        "episodes = 1 #AUMENTAR\n",
        "batch_size = 32\n",
        "data_samples = len(data) - 1\n",
        "data_samples_test = len(data_test) - 1"
      ],
      "execution_count": null,
      "outputs": []
    },
    {
      "cell_type": "markdown",
      "metadata": {
        "id": "h2kvNZx24sJ7"
      },
      "source": [
        "### Modelo"
      ]
    },
    {
      "cell_type": "code",
      "metadata": {
        "id": "LZSDqBLMKuWJ",
        "colab": {
          "base_uri": "https://localhost:8080/"
        },
        "outputId": "c84fa0b9-dd99-4393-f9c3-6711cc9c28b1"
      },
      "source": [
        "agent = Agent(window_size)"
      ],
      "execution_count": null,
      "outputs": [
        {
          "output_type": "stream",
          "name": "stderr",
          "text": [
            "/usr/local/lib/python3.10/dist-packages/keras/optimizer_v2/adam.py:105: UserWarning: The `lr` argument is deprecated, use `learning_rate` instead.\n",
            "  super(Adam, self).__init__(name, **kwargs)\n"
          ]
        }
      ]
    },
    {
      "cell_type": "code",
      "metadata": {
        "colab": {
          "base_uri": "https://localhost:8080/"
        },
        "id": "x4p4VbU6MioS",
        "outputId": "a6402c71-b040-4bc2-cb5a-d1d57b3e4e90"
      },
      "source": [
        "agent.model.summary()"
      ],
      "execution_count": null,
      "outputs": [
        {
          "output_type": "stream",
          "name": "stdout",
          "text": [
            "Model: \"sequential\"\n",
            "_________________________________________________________________\n",
            " Layer (type)                Output Shape              Param #   \n",
            "=================================================================\n",
            " dense (Dense)               (None, 16)                176       \n",
            "                                                                 \n",
            " dense_1 (Dense)             (None, 32)                544       \n",
            "                                                                 \n",
            " dense_2 (Dense)             (None, 64)                2112      \n",
            "                                                                 \n",
            " dense_3 (Dense)             (None, 3)                 195       \n",
            "                                                                 \n",
            "=================================================================\n",
            "Total params: 3,027\n",
            "Trainable params: 3,027\n",
            "Non-trainable params: 0\n",
            "_________________________________________________________________\n"
          ]
        }
      ]
    },
    {
      "cell_type": "markdown",
      "metadata": {
        "id": "QRip_rac5zHS"
      },
      "source": [
        "### Treinamento:"
      ]
    },
    {
      "cell_type": "code",
      "metadata": {
        "colab": {
          "base_uri": "https://localhost:8080/",
          "height": 883
        },
        "id": "wxN9NY-_NoWw",
        "outputId": "f066a203-2823-4e1e-d64f-181edf2f3d83"
      },
      "source": [
        "for episode in range(1, episodes + 1):\n",
        "  print(\"Episode: {}/{}\".format(episode, episodes))\n",
        "  state = state_creator(data, 0, window_size + 1)[0]\n",
        "  total_profit = 0\n",
        "  agent.inventory = []\n",
        "  for t in tqdm(range(data_samples)):\n",
        "    action = agent.trade(state)\n",
        "    next_state = state_creator(data, t + 1, window_size + 1)[0]\n",
        "    reward = 0\n",
        "\n",
        "    if action == 1: # Comprando uma ação\n",
        "      agent.inventory.append(data[t])\n",
        "      print(\"Agent bought: \", stocks_price_format(data[t]))\n",
        "    elif action == 2 and len(agent.inventory) > 0: # Vendendo uma ação, dado que so posso vender se ja comprei algo!\n",
        "      buy_price = agent.inventory.pop(0) #remove 1 item da pilha e pega o preço que foi pago\n",
        "\n",
        "      reward = max(data[t] - buy_price, 0) #valor atual da ação - valor pago #MAX pra não deixar recompensa negativa! (Pode ser modificado!)\n",
        "      total_profit += data[t] - buy_price\n",
        "      print(\"Agent sold: \", stocks_price_format(data[t]), \" Profit: \" + stocks_price_format(data[t] - buy_price))\n",
        "\n",
        "    if t == data_samples - 1:\n",
        "      done = True\n",
        "    else:\n",
        "      done = False\n",
        "\n",
        "    agent.memory.append((state, action, reward, next_state, done))\n",
        "\n",
        "    state = next_state\n",
        "\n",
        "    if done:\n",
        "      print(\"######## DONE ########\")\n",
        "      print(\"-- [INFO] Total profit: \", total_profit)\n",
        "\n",
        "    if len(agent.memory) > batch_size:\n",
        "      agent.train_on_batch(batch_size)\n",
        "\n",
        "  #if episode % 10 == 0:\n",
        "  agent.model.save(\"model_{}.h5\".format(episode)) #Salvando arquitetura e pesos!\n"
      ],
      "execution_count": null,
      "outputs": [
        {
          "output_type": "stream",
          "name": "stdout",
          "text": [
            "Episode: 1/1\n"
          ]
        },
        {
          "output_type": "stream",
          "name": "stderr",
          "text": [
            "\r  0%|          | 0/999 [00:00<?, ?it/s]"
          ]
        },
        {
          "output_type": "stream",
          "name": "stdout",
          "text": [
            "Agent bought:  $ 27.372499\n",
            "Agent bought:  $ 27.475000\n",
            "Agent bought:  $ 27.277500\n",
            "Agent bought:  $ 27.487499\n",
            "Agent sold:  $ 27.757500  Profit: $ 0.385000\n",
            "Agent bought:  $ 28.487499\n",
            "Agent bought:  $ 28.325001\n",
            "Agent sold:  $ 28.797501  Profit: $ 1.322500\n",
            "Agent sold:  $ 28.992500  Profit: $ 1.715000\n",
            "Agent bought:  $ 29.160000\n",
            "Agent bought:  $ 29.237499\n",
            "Agent sold:  $ 29.264999  Profit: $ 1.777500\n",
            "Agent sold:  $ 29.072500  Profit: $ 0.585001\n",
            "Agent bought:  $ 29.190001\n",
            "Agent sold:  $ 29.182501  Profit: $ 0.857500\n",
            "Agent bought:  $ 28.955000\n",
            "Agent sold:  $ 29.037500  Profit: - $ 0.122499\n",
            "Agent sold:  $ 29.004999  Profit: - $ 0.232500\n",
            "Agent bought:  $ 29.152500\n",
            "Agent bought:  $ 29.747499\n",
            "Agent sold:  $ 29.777500  Profit: $ 0.587500\n",
            "Agent sold:  $ 29.937500  Profit: $ 0.982500\n",
            "Agent sold:  $ 29.812500  Profit: $ 0.660000\n",
            "Agent bought:  $ 29.760000\n",
            "Agent sold:  $ 29.997499  Profit: $ 0.250000\n",
            "Agent bought:  $ 29.945000\n"
          ]
        },
        {
          "output_type": "stream",
          "name": "stderr",
          "text": [
            "\r  3%|▎         | 33/999 [00:04<02:06,  7.62it/s]"
          ]
        },
        {
          "output_type": "stream",
          "name": "stdout",
          "text": [
            "Agent sold:  $ 30.000000  Profit: $ 0.240000\n"
          ]
        },
        {
          "output_type": "stream",
          "name": "stderr",
          "text": [
            "\r  3%|▎         | 33/999 [00:05<02:43,  5.89it/s]\n"
          ]
        },
        {
          "output_type": "error",
          "ename": "KeyboardInterrupt",
          "evalue": "",
          "traceback": [
            "\u001b[0;31m---------------------------------------------------------------------------\u001b[0m",
            "\u001b[0;31mKeyboardInterrupt\u001b[0m                         Traceback (most recent call last)",
            "\u001b[0;32m<ipython-input-30-8e37b8dfbf21>\u001b[0m in \u001b[0;36m<cell line: 1>\u001b[0;34m()\u001b[0m\n\u001b[1;32m     33\u001b[0m \u001b[0;34m\u001b[0m\u001b[0m\n\u001b[1;32m     34\u001b[0m     \u001b[0;32mif\u001b[0m \u001b[0mlen\u001b[0m\u001b[0;34m(\u001b[0m\u001b[0magent\u001b[0m\u001b[0;34m.\u001b[0m\u001b[0mmemory\u001b[0m\u001b[0;34m)\u001b[0m \u001b[0;34m>\u001b[0m \u001b[0mbatch_size\u001b[0m\u001b[0;34m:\u001b[0m\u001b[0;34m\u001b[0m\u001b[0;34m\u001b[0m\u001b[0m\n\u001b[0;32m---> 35\u001b[0;31m       \u001b[0magent\u001b[0m\u001b[0;34m.\u001b[0m\u001b[0mtrain_on_batch\u001b[0m\u001b[0;34m(\u001b[0m\u001b[0mbatch_size\u001b[0m\u001b[0;34m)\u001b[0m\u001b[0;34m\u001b[0m\u001b[0;34m\u001b[0m\u001b[0m\n\u001b[0m\u001b[1;32m     36\u001b[0m \u001b[0;34m\u001b[0m\u001b[0m\n\u001b[1;32m     37\u001b[0m   \u001b[0;31m#if episode % 10 == 0:\u001b[0m\u001b[0;34m\u001b[0m\u001b[0;34m\u001b[0m\u001b[0m\n",
            "\u001b[0;32m<ipython-input-6-95ee08b3b0be>\u001b[0m in \u001b[0;36mtrain_on_batch\u001b[0;34m(self, batch_size)\u001b[0m\n\u001b[1;32m     46\u001b[0m         \u001b[0;31m#self.model.predict(next_state)[0] -> valores de Q no estado next_state\u001b[0m\u001b[0;34m\u001b[0m\u001b[0;34m\u001b[0m\u001b[0m\n\u001b[1;32m     47\u001b[0m         \u001b[0;31m#np.amax(self.model.predict(next_state)[0]) #busca ql maior valor de Q(s,a), ou seja, ql maior R\u001b[0m\u001b[0;34m\u001b[0m\u001b[0;34m\u001b[0m\u001b[0m\n\u001b[0;32m---> 48\u001b[0;31m         \u001b[0mreward\u001b[0m \u001b[0;34m=\u001b[0m \u001b[0mreward\u001b[0m \u001b[0;34m+\u001b[0m \u001b[0mself\u001b[0m\u001b[0;34m.\u001b[0m\u001b[0mgamma\u001b[0m \u001b[0;34m*\u001b[0m \u001b[0mnp\u001b[0m\u001b[0;34m.\u001b[0m\u001b[0mamax\u001b[0m\u001b[0;34m(\u001b[0m\u001b[0mself\u001b[0m\u001b[0;34m.\u001b[0m\u001b[0mmodel\u001b[0m\u001b[0;34m.\u001b[0m\u001b[0mpredict\u001b[0m\u001b[0;34m(\u001b[0m\u001b[0mnext_state\u001b[0m\u001b[0;34m)\u001b[0m\u001b[0;34m[\u001b[0m\u001b[0;36m0\u001b[0m\u001b[0;34m]\u001b[0m\u001b[0;34m)\u001b[0m \u001b[0;31m#Eq Bellman\u001b[0m\u001b[0;34m\u001b[0m\u001b[0;34m\u001b[0m\u001b[0m\n\u001b[0m\u001b[1;32m     49\u001b[0m \u001b[0;34m\u001b[0m\u001b[0m\n\u001b[1;32m     50\u001b[0m       \u001b[0mtarget\u001b[0m \u001b[0;34m=\u001b[0m \u001b[0mself\u001b[0m\u001b[0;34m.\u001b[0m\u001b[0mmodel\u001b[0m\u001b[0;34m.\u001b[0m\u001b[0mpredict\u001b[0m\u001b[0;34m(\u001b[0m\u001b[0mstate\u001b[0m\u001b[0;34m)\u001b[0m\u001b[0;34m\u001b[0m\u001b[0;34m\u001b[0m\u001b[0m\n",
            "\u001b[0;32m/usr/local/lib/python3.10/dist-packages/keras/utils/traceback_utils.py\u001b[0m in \u001b[0;36merror_handler\u001b[0;34m(*args, **kwargs)\u001b[0m\n\u001b[1;32m     62\u001b[0m     \u001b[0mfiltered_tb\u001b[0m \u001b[0;34m=\u001b[0m \u001b[0;32mNone\u001b[0m\u001b[0;34m\u001b[0m\u001b[0;34m\u001b[0m\u001b[0m\n\u001b[1;32m     63\u001b[0m     \u001b[0;32mtry\u001b[0m\u001b[0;34m:\u001b[0m\u001b[0;34m\u001b[0m\u001b[0;34m\u001b[0m\u001b[0m\n\u001b[0;32m---> 64\u001b[0;31m       \u001b[0;32mreturn\u001b[0m \u001b[0mfn\u001b[0m\u001b[0;34m(\u001b[0m\u001b[0;34m*\u001b[0m\u001b[0margs\u001b[0m\u001b[0;34m,\u001b[0m \u001b[0;34m**\u001b[0m\u001b[0mkwargs\u001b[0m\u001b[0;34m)\u001b[0m\u001b[0;34m\u001b[0m\u001b[0;34m\u001b[0m\u001b[0m\n\u001b[0m\u001b[1;32m     65\u001b[0m     \u001b[0;32mexcept\u001b[0m \u001b[0mException\u001b[0m \u001b[0;32mas\u001b[0m \u001b[0me\u001b[0m\u001b[0;34m:\u001b[0m  \u001b[0;31m# pylint: disable=broad-except\u001b[0m\u001b[0;34m\u001b[0m\u001b[0;34m\u001b[0m\u001b[0m\n\u001b[1;32m     66\u001b[0m       \u001b[0mfiltered_tb\u001b[0m \u001b[0;34m=\u001b[0m \u001b[0m_process_traceback_frames\u001b[0m\u001b[0;34m(\u001b[0m\u001b[0me\u001b[0m\u001b[0;34m.\u001b[0m\u001b[0m__traceback__\u001b[0m\u001b[0;34m)\u001b[0m\u001b[0;34m\u001b[0m\u001b[0;34m\u001b[0m\u001b[0m\n",
            "\u001b[0;32m/usr/local/lib/python3.10/dist-packages/keras/engine/training.py\u001b[0m in \u001b[0;36mpredict\u001b[0;34m(self, x, batch_size, verbose, steps, callbacks, max_queue_size, workers, use_multiprocessing)\u001b[0m\n\u001b[1;32m   1949\u001b[0m               stacklevel=2)\n\u001b[1;32m   1950\u001b[0m \u001b[0;34m\u001b[0m\u001b[0m\n\u001b[0;32m-> 1951\u001b[0;31m       data_handler = data_adapter.get_data_handler(\n\u001b[0m\u001b[1;32m   1952\u001b[0m           \u001b[0mx\u001b[0m\u001b[0;34m=\u001b[0m\u001b[0mx\u001b[0m\u001b[0;34m,\u001b[0m\u001b[0;34m\u001b[0m\u001b[0;34m\u001b[0m\u001b[0m\n\u001b[1;32m   1953\u001b[0m           \u001b[0mbatch_size\u001b[0m\u001b[0;34m=\u001b[0m\u001b[0mbatch_size\u001b[0m\u001b[0;34m,\u001b[0m\u001b[0;34m\u001b[0m\u001b[0;34m\u001b[0m\u001b[0m\n",
            "\u001b[0;32m/usr/local/lib/python3.10/dist-packages/keras/engine/data_adapter.py\u001b[0m in \u001b[0;36mget_data_handler\u001b[0;34m(*args, **kwargs)\u001b[0m\n\u001b[1;32m   1397\u001b[0m   \u001b[0;32mif\u001b[0m \u001b[0mgetattr\u001b[0m\u001b[0;34m(\u001b[0m\u001b[0mkwargs\u001b[0m\u001b[0;34m[\u001b[0m\u001b[0;34m\"model\"\u001b[0m\u001b[0;34m]\u001b[0m\u001b[0;34m,\u001b[0m \u001b[0;34m\"_cluster_coordinator\"\u001b[0m\u001b[0;34m,\u001b[0m \u001b[0;32mNone\u001b[0m\u001b[0;34m)\u001b[0m\u001b[0;34m:\u001b[0m\u001b[0;34m\u001b[0m\u001b[0;34m\u001b[0m\u001b[0m\n\u001b[1;32m   1398\u001b[0m     \u001b[0;32mreturn\u001b[0m \u001b[0m_ClusterCoordinatorDataHandler\u001b[0m\u001b[0;34m(\u001b[0m\u001b[0;34m*\u001b[0m\u001b[0margs\u001b[0m\u001b[0;34m,\u001b[0m \u001b[0;34m**\u001b[0m\u001b[0mkwargs\u001b[0m\u001b[0;34m)\u001b[0m\u001b[0;34m\u001b[0m\u001b[0;34m\u001b[0m\u001b[0m\n\u001b[0;32m-> 1399\u001b[0;31m   \u001b[0;32mreturn\u001b[0m \u001b[0mDataHandler\u001b[0m\u001b[0;34m(\u001b[0m\u001b[0;34m*\u001b[0m\u001b[0margs\u001b[0m\u001b[0;34m,\u001b[0m \u001b[0;34m**\u001b[0m\u001b[0mkwargs\u001b[0m\u001b[0;34m)\u001b[0m\u001b[0;34m\u001b[0m\u001b[0;34m\u001b[0m\u001b[0m\n\u001b[0m\u001b[1;32m   1400\u001b[0m \u001b[0;34m\u001b[0m\u001b[0m\n\u001b[1;32m   1401\u001b[0m \u001b[0;34m\u001b[0m\u001b[0m\n",
            "\u001b[0;32m/usr/local/lib/python3.10/dist-packages/keras/engine/data_adapter.py\u001b[0m in \u001b[0;36m__init__\u001b[0;34m(self, x, y, sample_weight, batch_size, steps_per_epoch, initial_epoch, epochs, shuffle, class_weight, max_queue_size, workers, use_multiprocessing, model, steps_per_execution, distribute)\u001b[0m\n\u001b[1;32m   1147\u001b[0m \u001b[0;34m\u001b[0m\u001b[0m\n\u001b[1;32m   1148\u001b[0m     \u001b[0madapter_cls\u001b[0m \u001b[0;34m=\u001b[0m \u001b[0mselect_data_adapter\u001b[0m\u001b[0;34m(\u001b[0m\u001b[0mx\u001b[0m\u001b[0;34m,\u001b[0m \u001b[0my\u001b[0m\u001b[0;34m)\u001b[0m\u001b[0;34m\u001b[0m\u001b[0;34m\u001b[0m\u001b[0m\n\u001b[0;32m-> 1149\u001b[0;31m     self._adapter = adapter_cls(\n\u001b[0m\u001b[1;32m   1150\u001b[0m         \u001b[0mx\u001b[0m\u001b[0;34m,\u001b[0m\u001b[0;34m\u001b[0m\u001b[0;34m\u001b[0m\u001b[0m\n\u001b[1;32m   1151\u001b[0m         \u001b[0my\u001b[0m\u001b[0;34m,\u001b[0m\u001b[0;34m\u001b[0m\u001b[0;34m\u001b[0m\u001b[0m\n",
            "\u001b[0;32m/usr/local/lib/python3.10/dist-packages/keras/engine/data_adapter.py\u001b[0m in \u001b[0;36m__init__\u001b[0;34m(self, x, y, sample_weights, sample_weight_modes, batch_size, epochs, steps, shuffle, **kwargs)\u001b[0m\n\u001b[1;32m    326\u001b[0m     \u001b[0mindices_dataset\u001b[0m \u001b[0;34m=\u001b[0m \u001b[0mindices_dataset\u001b[0m\u001b[0;34m.\u001b[0m\u001b[0mflat_map\u001b[0m\u001b[0;34m(\u001b[0m\u001b[0mslice_batch_indices\u001b[0m\u001b[0;34m)\u001b[0m\u001b[0;34m\u001b[0m\u001b[0;34m\u001b[0m\u001b[0m\n\u001b[1;32m    327\u001b[0m \u001b[0;34m\u001b[0m\u001b[0m\n\u001b[0;32m--> 328\u001b[0;31m     \u001b[0mdataset\u001b[0m \u001b[0;34m=\u001b[0m \u001b[0mself\u001b[0m\u001b[0;34m.\u001b[0m\u001b[0mslice_inputs\u001b[0m\u001b[0;34m(\u001b[0m\u001b[0mindices_dataset\u001b[0m\u001b[0;34m,\u001b[0m \u001b[0minputs\u001b[0m\u001b[0;34m)\u001b[0m\u001b[0;34m\u001b[0m\u001b[0;34m\u001b[0m\u001b[0m\n\u001b[0m\u001b[1;32m    329\u001b[0m \u001b[0;34m\u001b[0m\u001b[0m\n\u001b[1;32m    330\u001b[0m     \u001b[0;32mif\u001b[0m \u001b[0mshuffle\u001b[0m \u001b[0;34m==\u001b[0m \u001b[0;34m\"batch\"\u001b[0m\u001b[0;34m:\u001b[0m\u001b[0;34m\u001b[0m\u001b[0;34m\u001b[0m\u001b[0m\n",
            "\u001b[0;32m/usr/local/lib/python3.10/dist-packages/keras/engine/data_adapter.py\u001b[0m in \u001b[0;36mslice_inputs\u001b[0;34m(self, indices_dataset, inputs)\u001b[0m\n\u001b[1;32m    358\u001b[0m       \u001b[0;32mreturn\u001b[0m \u001b[0mtf\u001b[0m\u001b[0;34m.\u001b[0m\u001b[0mnest\u001b[0m\u001b[0;34m.\u001b[0m\u001b[0mmap_structure\u001b[0m\u001b[0;34m(\u001b[0m\u001b[0;32mlambda\u001b[0m \u001b[0md\u001b[0m\u001b[0;34m:\u001b[0m \u001b[0mtf\u001b[0m\u001b[0;34m.\u001b[0m\u001b[0mgather\u001b[0m\u001b[0;34m(\u001b[0m\u001b[0md\u001b[0m\u001b[0;34m,\u001b[0m \u001b[0mi\u001b[0m\u001b[0;34m,\u001b[0m \u001b[0maxis\u001b[0m\u001b[0;34m=\u001b[0m\u001b[0;36m0\u001b[0m\u001b[0;34m)\u001b[0m\u001b[0;34m,\u001b[0m \u001b[0mdata\u001b[0m\u001b[0;34m)\u001b[0m\u001b[0;34m\u001b[0m\u001b[0;34m\u001b[0m\u001b[0m\n\u001b[1;32m    359\u001b[0m \u001b[0;34m\u001b[0m\u001b[0m\n\u001b[0;32m--> 360\u001b[0;31m     dataset = dataset.map(\n\u001b[0m\u001b[1;32m    361\u001b[0m         grab_batch, num_parallel_calls=tf.data.AUTOTUNE)\n\u001b[1;32m    362\u001b[0m \u001b[0;34m\u001b[0m\u001b[0m\n",
            "\u001b[0;32m/usr/local/lib/python3.10/dist-packages/tensorflow/python/data/ops/dataset_ops.py\u001b[0m in \u001b[0;36mmap\u001b[0;34m(self, map_func, num_parallel_calls, deterministic, name)\u001b[0m\n\u001b[1;32m   2016\u001b[0m       \u001b[0;32mreturn\u001b[0m \u001b[0mMapDataset\u001b[0m\u001b[0;34m(\u001b[0m\u001b[0mself\u001b[0m\u001b[0;34m,\u001b[0m \u001b[0mmap_func\u001b[0m\u001b[0;34m,\u001b[0m \u001b[0mpreserve_cardinality\u001b[0m\u001b[0;34m=\u001b[0m\u001b[0;32mTrue\u001b[0m\u001b[0;34m,\u001b[0m \u001b[0mname\u001b[0m\u001b[0;34m=\u001b[0m\u001b[0mname\u001b[0m\u001b[0;34m)\u001b[0m\u001b[0;34m\u001b[0m\u001b[0;34m\u001b[0m\u001b[0m\n\u001b[1;32m   2017\u001b[0m     \u001b[0;32melse\u001b[0m\u001b[0;34m:\u001b[0m\u001b[0;34m\u001b[0m\u001b[0;34m\u001b[0m\u001b[0m\n\u001b[0;32m-> 2018\u001b[0;31m       return ParallelMapDataset(\n\u001b[0m\u001b[1;32m   2019\u001b[0m           \u001b[0mself\u001b[0m\u001b[0;34m,\u001b[0m\u001b[0;34m\u001b[0m\u001b[0;34m\u001b[0m\u001b[0m\n\u001b[1;32m   2020\u001b[0m           \u001b[0mmap_func\u001b[0m\u001b[0;34m,\u001b[0m\u001b[0;34m\u001b[0m\u001b[0;34m\u001b[0m\u001b[0m\n",
            "\u001b[0;32m/usr/local/lib/python3.10/dist-packages/tensorflow/python/data/ops/dataset_ops.py\u001b[0m in \u001b[0;36m__init__\u001b[0;34m(self, input_dataset, map_func, num_parallel_calls, deterministic, use_inter_op_parallelism, preserve_cardinality, use_legacy_function, name)\u001b[0m\n\u001b[1;32m   5232\u001b[0m     \u001b[0mself\u001b[0m\u001b[0;34m.\u001b[0m\u001b[0m_input_dataset\u001b[0m \u001b[0;34m=\u001b[0m \u001b[0minput_dataset\u001b[0m\u001b[0;34m\u001b[0m\u001b[0;34m\u001b[0m\u001b[0m\n\u001b[1;32m   5233\u001b[0m     \u001b[0mself\u001b[0m\u001b[0;34m.\u001b[0m\u001b[0m_use_inter_op_parallelism\u001b[0m \u001b[0;34m=\u001b[0m \u001b[0muse_inter_op_parallelism\u001b[0m\u001b[0;34m\u001b[0m\u001b[0;34m\u001b[0m\u001b[0m\n\u001b[0;32m-> 5234\u001b[0;31m     self._map_func = structured_function.StructuredFunctionWrapper(\n\u001b[0m\u001b[1;32m   5235\u001b[0m         \u001b[0mmap_func\u001b[0m\u001b[0;34m,\u001b[0m\u001b[0;34m\u001b[0m\u001b[0;34m\u001b[0m\u001b[0m\n\u001b[1;32m   5236\u001b[0m         \u001b[0mself\u001b[0m\u001b[0;34m.\u001b[0m\u001b[0m_transformation_name\u001b[0m\u001b[0;34m(\u001b[0m\u001b[0;34m)\u001b[0m\u001b[0;34m,\u001b[0m\u001b[0;34m\u001b[0m\u001b[0;34m\u001b[0m\u001b[0m\n",
            "\u001b[0;32m/usr/local/lib/python3.10/dist-packages/tensorflow/python/data/ops/structured_function.py\u001b[0m in \u001b[0;36m__init__\u001b[0;34m(self, func, transformation_name, dataset, input_classes, input_shapes, input_types, input_structure, add_to_graph, use_legacy_function, defun_kwargs)\u001b[0m\n\u001b[1;32m    269\u001b[0m         \u001b[0mfn_factory\u001b[0m \u001b[0;34m=\u001b[0m \u001b[0mtrace_tf_function\u001b[0m\u001b[0;34m(\u001b[0m\u001b[0mdefun_kwargs\u001b[0m\u001b[0;34m)\u001b[0m\u001b[0;34m\u001b[0m\u001b[0;34m\u001b[0m\u001b[0m\n\u001b[1;32m    270\u001b[0m \u001b[0;34m\u001b[0m\u001b[0m\n\u001b[0;32m--> 271\u001b[0;31m     \u001b[0mself\u001b[0m\u001b[0;34m.\u001b[0m\u001b[0m_function\u001b[0m \u001b[0;34m=\u001b[0m \u001b[0mfn_factory\u001b[0m\u001b[0;34m(\u001b[0m\u001b[0;34m)\u001b[0m\u001b[0;34m\u001b[0m\u001b[0;34m\u001b[0m\u001b[0m\n\u001b[0m\u001b[1;32m    272\u001b[0m     \u001b[0;31m# There is no graph to add in eager mode.\u001b[0m\u001b[0;34m\u001b[0m\u001b[0;34m\u001b[0m\u001b[0m\n\u001b[1;32m    273\u001b[0m     \u001b[0madd_to_graph\u001b[0m \u001b[0;34m&=\u001b[0m \u001b[0;32mnot\u001b[0m \u001b[0mcontext\u001b[0m\u001b[0;34m.\u001b[0m\u001b[0mexecuting_eagerly\u001b[0m\u001b[0;34m(\u001b[0m\u001b[0;34m)\u001b[0m\u001b[0;34m\u001b[0m\u001b[0;34m\u001b[0m\u001b[0m\n",
            "\u001b[0;32m/usr/local/lib/python3.10/dist-packages/tensorflow/python/eager/function.py\u001b[0m in \u001b[0;36mget_concrete_function\u001b[0;34m(self, *args, **kwargs)\u001b[0m\n\u001b[1;32m   3068\u001b[0m          \u001b[0;32mor\u001b[0m\u001b[0;31m \u001b[0m\u001b[0;31m`\u001b[0m\u001b[0mtf\u001b[0m\u001b[0;34m.\u001b[0m\u001b[0mTensor\u001b[0m\u001b[0;31m`\u001b[0m \u001b[0;32mor\u001b[0m\u001b[0;31m \u001b[0m\u001b[0;31m`\u001b[0m\u001b[0mtf\u001b[0m\u001b[0;34m.\u001b[0m\u001b[0mTensorSpec\u001b[0m\u001b[0;31m`\u001b[0m\u001b[0;34m.\u001b[0m\u001b[0;34m\u001b[0m\u001b[0;34m\u001b[0m\u001b[0m\n\u001b[1;32m   3069\u001b[0m     \"\"\"\n\u001b[0;32m-> 3070\u001b[0;31m     graph_function = self._get_concrete_function_garbage_collected(\n\u001b[0m\u001b[1;32m   3071\u001b[0m         *args, **kwargs)\n\u001b[1;32m   3072\u001b[0m     \u001b[0mgraph_function\u001b[0m\u001b[0;34m.\u001b[0m\u001b[0m_garbage_collector\u001b[0m\u001b[0;34m.\u001b[0m\u001b[0mrelease\u001b[0m\u001b[0;34m(\u001b[0m\u001b[0;34m)\u001b[0m  \u001b[0;31m# pylint: disable=protected-access\u001b[0m\u001b[0;34m\u001b[0m\u001b[0;34m\u001b[0m\u001b[0m\n",
            "\u001b[0;32m/usr/local/lib/python3.10/dist-packages/tensorflow/python/eager/function.py\u001b[0m in \u001b[0;36m_get_concrete_function_garbage_collected\u001b[0;34m(self, *args, **kwargs)\u001b[0m\n\u001b[1;32m   3034\u001b[0m       \u001b[0margs\u001b[0m\u001b[0;34m,\u001b[0m \u001b[0mkwargs\u001b[0m \u001b[0;34m=\u001b[0m \u001b[0;32mNone\u001b[0m\u001b[0;34m,\u001b[0m \u001b[0;32mNone\u001b[0m\u001b[0;34m\u001b[0m\u001b[0;34m\u001b[0m\u001b[0m\n\u001b[1;32m   3035\u001b[0m     \u001b[0;32mwith\u001b[0m \u001b[0mself\u001b[0m\u001b[0;34m.\u001b[0m\u001b[0m_lock\u001b[0m\u001b[0;34m:\u001b[0m\u001b[0;34m\u001b[0m\u001b[0;34m\u001b[0m\u001b[0m\n\u001b[0;32m-> 3036\u001b[0;31m       \u001b[0mgraph_function\u001b[0m\u001b[0;34m,\u001b[0m \u001b[0m_\u001b[0m \u001b[0;34m=\u001b[0m \u001b[0mself\u001b[0m\u001b[0;34m.\u001b[0m\u001b[0m_maybe_define_function\u001b[0m\u001b[0;34m(\u001b[0m\u001b[0margs\u001b[0m\u001b[0;34m,\u001b[0m \u001b[0mkwargs\u001b[0m\u001b[0;34m)\u001b[0m\u001b[0;34m\u001b[0m\u001b[0;34m\u001b[0m\u001b[0m\n\u001b[0m\u001b[1;32m   3037\u001b[0m       \u001b[0mseen_names\u001b[0m \u001b[0;34m=\u001b[0m \u001b[0mset\u001b[0m\u001b[0;34m(\u001b[0m\u001b[0;34m)\u001b[0m\u001b[0;34m\u001b[0m\u001b[0;34m\u001b[0m\u001b[0m\n\u001b[1;32m   3038\u001b[0m       captured = object_identity.ObjectIdentitySet(\n",
            "\u001b[0;32m/usr/local/lib/python3.10/dist-packages/tensorflow/python/eager/function.py\u001b[0m in \u001b[0;36m_maybe_define_function\u001b[0;34m(self, args, kwargs)\u001b[0m\n\u001b[1;32m   3290\u001b[0m \u001b[0;34m\u001b[0m\u001b[0m\n\u001b[1;32m   3291\u001b[0m           \u001b[0mself\u001b[0m\u001b[0;34m.\u001b[0m\u001b[0m_function_cache\u001b[0m\u001b[0;34m.\u001b[0m\u001b[0madd_call_context\u001b[0m\u001b[0;34m(\u001b[0m\u001b[0mcache_key\u001b[0m\u001b[0;34m.\u001b[0m\u001b[0mcall_context\u001b[0m\u001b[0;34m)\u001b[0m\u001b[0;34m\u001b[0m\u001b[0;34m\u001b[0m\u001b[0m\n\u001b[0;32m-> 3292\u001b[0;31m           \u001b[0mgraph_function\u001b[0m \u001b[0;34m=\u001b[0m \u001b[0mself\u001b[0m\u001b[0;34m.\u001b[0m\u001b[0m_create_graph_function\u001b[0m\u001b[0;34m(\u001b[0m\u001b[0margs\u001b[0m\u001b[0;34m,\u001b[0m \u001b[0mkwargs\u001b[0m\u001b[0;34m)\u001b[0m\u001b[0;34m\u001b[0m\u001b[0;34m\u001b[0m\u001b[0m\n\u001b[0m\u001b[1;32m   3293\u001b[0m           self._function_cache.add(cache_key, cache_key_deletion_observer,\n\u001b[1;32m   3294\u001b[0m                                    graph_function)\n",
            "\u001b[0;32m/usr/local/lib/python3.10/dist-packages/tensorflow/python/eager/function.py\u001b[0m in \u001b[0;36m_create_graph_function\u001b[0;34m(self, args, kwargs, override_flat_arg_shapes)\u001b[0m\n\u001b[1;32m   3128\u001b[0m     \u001b[0marg_names\u001b[0m \u001b[0;34m=\u001b[0m \u001b[0mbase_arg_names\u001b[0m \u001b[0;34m+\u001b[0m \u001b[0mmissing_arg_names\u001b[0m\u001b[0;34m\u001b[0m\u001b[0;34m\u001b[0m\u001b[0m\n\u001b[1;32m   3129\u001b[0m     graph_function = ConcreteFunction(\n\u001b[0;32m-> 3130\u001b[0;31m         func_graph_module.func_graph_from_py_func(\n\u001b[0m\u001b[1;32m   3131\u001b[0m             \u001b[0mself\u001b[0m\u001b[0;34m.\u001b[0m\u001b[0m_name\u001b[0m\u001b[0;34m,\u001b[0m\u001b[0;34m\u001b[0m\u001b[0;34m\u001b[0m\u001b[0m\n\u001b[1;32m   3132\u001b[0m             \u001b[0mself\u001b[0m\u001b[0;34m.\u001b[0m\u001b[0m_python_function\u001b[0m\u001b[0;34m,\u001b[0m\u001b[0;34m\u001b[0m\u001b[0;34m\u001b[0m\u001b[0m\n",
            "\u001b[0;32m/usr/local/lib/python3.10/dist-packages/tensorflow/python/framework/func_graph.py\u001b[0m in \u001b[0;36mfunc_graph_from_py_func\u001b[0;34m(name, python_func, args, kwargs, signature, func_graph, autograph, autograph_options, add_control_dependencies, arg_names, op_return_value, collections, capture_by_value, override_flat_arg_shapes, acd_record_initial_resource_uses)\u001b[0m\n\u001b[1;32m   1042\u001b[0m     \u001b[0;32massert\u001b[0m \u001b[0misinstance\u001b[0m\u001b[0;34m(\u001b[0m\u001b[0mop_return_value\u001b[0m\u001b[0;34m,\u001b[0m \u001b[0mops\u001b[0m\u001b[0;34m.\u001b[0m\u001b[0mTensor\u001b[0m\u001b[0;34m)\u001b[0m\u001b[0;34m,\u001b[0m \u001b[0mop_return_value\u001b[0m\u001b[0;34m\u001b[0m\u001b[0;34m\u001b[0m\u001b[0m\n\u001b[1;32m   1043\u001b[0m   \u001b[0;32mif\u001b[0m \u001b[0mfunc_graph\u001b[0m \u001b[0;32mis\u001b[0m \u001b[0;32mNone\u001b[0m\u001b[0;34m:\u001b[0m\u001b[0;34m\u001b[0m\u001b[0;34m\u001b[0m\u001b[0m\n\u001b[0;32m-> 1044\u001b[0;31m     func_graph = FuncGraph(name, collections=collections,\n\u001b[0m\u001b[1;32m   1045\u001b[0m                            capture_by_value=capture_by_value)\n\u001b[1;32m   1046\u001b[0m   \u001b[0;32massert\u001b[0m \u001b[0misinstance\u001b[0m\u001b[0;34m(\u001b[0m\u001b[0mfunc_graph\u001b[0m\u001b[0;34m,\u001b[0m \u001b[0mFuncGraph\u001b[0m\u001b[0;34m)\u001b[0m\u001b[0;34m\u001b[0m\u001b[0;34m\u001b[0m\u001b[0m\n",
            "\u001b[0;32m/usr/local/lib/python3.10/dist-packages/tensorflow/python/framework/func_graph.py\u001b[0m in \u001b[0;36m__init__\u001b[0;34m(self, name, collections, capture_by_value, structured_input_signature, structured_outputs)\u001b[0m\n\u001b[1;32m    193\u001b[0m         \u001b[0minformation\u001b[0m\u001b[0;34m.\u001b[0m\u001b[0;34m\u001b[0m\u001b[0;34m\u001b[0m\u001b[0m\n\u001b[1;32m    194\u001b[0m     \"\"\"\n\u001b[0;32m--> 195\u001b[0;31m     \u001b[0msuper\u001b[0m\u001b[0;34m(\u001b[0m\u001b[0mFuncGraph\u001b[0m\u001b[0;34m,\u001b[0m \u001b[0mself\u001b[0m\u001b[0;34m)\u001b[0m\u001b[0;34m.\u001b[0m\u001b[0m__init__\u001b[0m\u001b[0;34m(\u001b[0m\u001b[0;34m)\u001b[0m\u001b[0;34m\u001b[0m\u001b[0;34m\u001b[0m\u001b[0m\n\u001b[0m\u001b[1;32m    196\u001b[0m     \u001b[0mself\u001b[0m\u001b[0;34m.\u001b[0m\u001b[0mname\u001b[0m \u001b[0;34m=\u001b[0m \u001b[0mname\u001b[0m\u001b[0;34m\u001b[0m\u001b[0;34m\u001b[0m\u001b[0m\n\u001b[1;32m    197\u001b[0m     \u001b[0mself\u001b[0m\u001b[0;34m.\u001b[0m\u001b[0minputs\u001b[0m \u001b[0;34m=\u001b[0m \u001b[0;34m[\u001b[0m\u001b[0;34m]\u001b[0m\u001b[0;34m\u001b[0m\u001b[0;34m\u001b[0m\u001b[0m\n",
            "\u001b[0;32m/usr/local/lib/python3.10/dist-packages/tensorflow/python/framework/ops.py\u001b[0m in \u001b[0;36m__init__\u001b[0;34m(self)\u001b[0m\n\u001b[1;32m   3141\u001b[0m     \u001b[0;31m# Stack of colocate_with ops. In TF2.x or after switch_to_thread_local(),\u001b[0m\u001b[0;34m\u001b[0m\u001b[0;34m\u001b[0m\u001b[0m\n\u001b[1;32m   3142\u001b[0m     \u001b[0;31m# self._thread_local._colocation_stack is used instead.\u001b[0m\u001b[0;34m\u001b[0m\u001b[0;34m\u001b[0m\u001b[0m\n\u001b[0;32m-> 3143\u001b[0;31m     \u001b[0mself\u001b[0m\u001b[0;34m.\u001b[0m\u001b[0m_graph_colocation_stack\u001b[0m \u001b[0;34m=\u001b[0m \u001b[0mtraceable_stack\u001b[0m\u001b[0;34m.\u001b[0m\u001b[0mTraceableStack\u001b[0m\u001b[0;34m(\u001b[0m\u001b[0;34m)\u001b[0m\u001b[0;34m\u001b[0m\u001b[0;34m\u001b[0m\u001b[0m\n\u001b[0m\u001b[1;32m   3144\u001b[0m     \u001b[0;31m# Set of tensors that are dangerous to feed!\u001b[0m\u001b[0;34m\u001b[0m\u001b[0;34m\u001b[0m\u001b[0m\n\u001b[1;32m   3145\u001b[0m     \u001b[0mself\u001b[0m\u001b[0;34m.\u001b[0m\u001b[0m_unfeedable_tensors\u001b[0m \u001b[0;34m=\u001b[0m \u001b[0mobject_identity\u001b[0m\u001b[0;34m.\u001b[0m\u001b[0mObjectIdentitySet\u001b[0m\u001b[0;34m(\u001b[0m\u001b[0;34m)\u001b[0m\u001b[0;34m\u001b[0m\u001b[0;34m\u001b[0m\u001b[0m\n",
            "\u001b[0;31mKeyboardInterrupt\u001b[0m: "
          ]
        }
      ]
    },
    {
      "cell_type": "code",
      "metadata": {
        "id": "171UWcZ61T1R"
      },
      "source": [],
      "execution_count": null,
      "outputs": []
    },
    {
      "cell_type": "code",
      "metadata": {
        "id": "QvyXUXzr1U3O"
      },
      "source": [],
      "execution_count": null,
      "outputs": []
    },
    {
      "cell_type": "markdown",
      "metadata": {
        "id": "2eDUiquisSVN"
      },
      "source": [
        "# Inferência"
      ]
    },
    {
      "cell_type": "code",
      "metadata": {
        "id": "G_XGxBZCrpcM"
      },
      "source": [
        "model = tf.keras.models.load_model(\"model_1.h5\")"
      ],
      "execution_count": null,
      "outputs": []
    },
    {
      "cell_type": "code",
      "metadata": {
        "colab": {
          "base_uri": "https://localhost:8080/",
          "height": 1000
        },
        "id": "rDQPwaKizFBK",
        "outputId": "fe30cc65-ac43-41e4-cd1b-e52b8269776a"
      },
      "source": [
        "for t in tqdm(range(data_samples_test)):\n",
        "  state = state_creator(data_test, t + 1, window_size + 1)[0]\n",
        "  print(state)\n",
        "  action = model.predict(state)\n",
        "  result = np.argmax(action[0])\n",
        "  print(\"result \", result)\n",
        "\n",
        "  if result == 1:\n",
        "    print(\"-- [INFO] bought!\")\n",
        "  elif result == 2:\n",
        "    print(\"-- [INFO] sold!\")\n",
        "  else:\n",
        "    print(\"-- [INFO] do nothing!\")\n",
        "  print('\\n')\n",
        "  print('-----------------------------')\n",
        "  print('\\n')"
      ],
      "execution_count": null,
      "outputs": [
        {
          "output_type": "stream",
          "name": "stderr",
          "text": [
            "  0%|          | 2/519 [00:00<00:28, 18.22it/s]"
          ]
        },
        {
          "output_type": "stream",
          "name": "stdout",
          "text": [
            "[[0.5        0.5        0.5        0.5        0.5        0.5\n",
            "  0.5        0.5        0.5        0.02959817]]\n",
            "result  2\n",
            "-- [INFO] sold!\n",
            "\n",
            "\n",
            "-----------------------------\n",
            "\n",
            "\n",
            "[[0.5        0.5        0.5        0.5        0.5        0.5\n",
            "  0.5        0.5        0.02959817 0.78918166]]\n",
            "result  1\n",
            "-- [INFO] bought!\n",
            "\n",
            "\n",
            "-----------------------------\n",
            "\n",
            "\n",
            "[[0.5        0.5        0.5        0.5        0.5        0.5\n",
            "  0.5        0.02959817 0.78918166 0.70266078]]\n",
            "result  2\n",
            "-- [INFO] sold!\n",
            "\n",
            "\n",
            "-----------------------------\n",
            "\n",
            "\n",
            "[[0.5        0.5        0.5        0.5        0.5        0.5\n",
            "  0.02959817 0.78918166 0.70266078 0.63645198]]\n",
            "result  1\n",
            "-- [INFO] bought!\n",
            "\n",
            "\n",
            "-----------------------------\n",
            "\n",
            "\n",
            "[[0.5        0.5        0.5        0.5        0.5        0.02959817\n",
            "  0.78918166 0.70266078 0.63645198 0.92129015]]\n"
          ]
        },
        {
          "output_type": "stream",
          "name": "stderr",
          "text": [
            "  2%|▏         | 8/519 [00:00<00:20, 25.37it/s]"
          ]
        },
        {
          "output_type": "stream",
          "name": "stdout",
          "text": [
            "result  2\n",
            "-- [INFO] sold!\n",
            "\n",
            "\n",
            "-----------------------------\n",
            "\n",
            "\n",
            "[[0.5        0.5        0.5        0.5        0.02959817 0.78918166\n",
            "  0.70266078 0.63645198 0.92129015 0.97515641]]\n",
            "result  2\n",
            "-- [INFO] sold!\n",
            "\n",
            "\n",
            "-----------------------------\n",
            "\n",
            "\n",
            "[[0.5        0.5        0.5        0.02959817 0.78918166 0.70266078\n",
            "  0.63645198 0.92129015 0.97515641 0.58904058]]\n",
            "result  1\n",
            "-- [INFO] bought!\n",
            "\n",
            "\n",
            "-----------------------------\n",
            "\n",
            "\n",
            "[[0.5        0.5        0.02959817 0.78918166 0.70266078 0.63645198\n",
            "  0.92129015 0.97515641 0.58904058 0.46505721]]\n",
            "result  2\n",
            "-- [INFO] sold!\n",
            "\n",
            "\n",
            "-----------------------------\n",
            "\n",
            "\n",
            "[[0.5        0.02959817 0.78918166 0.70266078 0.63645198 0.92129015\n",
            "  0.97515641 0.58904058 0.46505721 0.33403253]]\n",
            "result  2\n",
            "-- [INFO] sold!\n",
            "\n",
            "\n",
            "-----------------------------\n",
            "\n",
            "\n",
            "[[0.02959817 0.78918166 0.70266078 0.63645198 0.92129015 0.97515641\n",
            "  0.58904058 0.46505721 0.33403253 0.81757448]]\n",
            "result  1\n",
            "-- [INFO] bought!\n",
            "\n",
            "\n",
            "-----------------------------\n",
            "\n",
            "\n",
            "[[0.78918166 0.70266078 0.63645198 0.92129015 0.97515641 0.58904058\n",
            "  0.46505721 0.33403253 0.81757448 0.65248884]]\n"
          ]
        },
        {
          "output_type": "stream",
          "name": "stderr",
          "text": [
            "  3%|▎         | 14/519 [00:00<00:20, 24.52it/s]"
          ]
        },
        {
          "output_type": "stream",
          "name": "stdout",
          "text": [
            "result  1\n",
            "-- [INFO] bought!\n",
            "\n",
            "\n",
            "-----------------------------\n",
            "\n",
            "\n",
            "[[0.70266078 0.63645198 0.92129015 0.97515641 0.58904058 0.46505721\n",
            "  0.33403253 0.81757448 0.65248884 0.06913852]]\n",
            "result  2\n",
            "-- [INFO] sold!\n",
            "\n",
            "\n",
            "-----------------------------\n",
            "\n",
            "\n",
            "[[0.63645198 0.92129015 0.97515641 0.58904058 0.46505721 0.33403253\n",
            "  0.81757448 0.65248884 0.06913852 0.81153253]]\n",
            "result  1\n",
            "-- [INFO] bought!\n",
            "\n",
            "\n",
            "-----------------------------\n",
            "\n",
            "\n",
            "[[0.92129015 0.97515641 0.58904058 0.46505721 0.33403253 0.81757448\n",
            "  0.65248884 0.06913852 0.81153253 0.3036463 ]]\n",
            "result  1\n",
            "-- [INFO] bought!\n",
            "\n",
            "\n",
            "-----------------------------\n",
            "\n",
            "\n",
            "[[0.97515641 0.58904058 0.46505721 0.33403253 0.81757448 0.65248884\n",
            "  0.06913852 0.81153253 0.3036463  0.34750943]]\n",
            "result  2\n",
            "-- [INFO] sold!\n",
            "\n",
            "\n",
            "-----------------------------\n",
            "\n",
            "\n",
            "[[0.58904058 0.46505721 0.33403253 0.81757448 0.65248884 0.06913852\n",
            "  0.81153253 0.3036463  0.34750943 0.99776215]]\n"
          ]
        },
        {
          "output_type": "stream",
          "name": "stderr",
          "text": [
            "  4%|▍         | 20/519 [00:00<00:20, 23.92it/s]"
          ]
        },
        {
          "output_type": "stream",
          "name": "stdout",
          "text": [
            "result  1\n",
            "-- [INFO] bought!\n",
            "\n",
            "\n",
            "-----------------------------\n",
            "\n",
            "\n",
            "[[0.46505721 0.33403253 0.81757448 0.65248884 0.06913852 0.81153253\n",
            "  0.3036463  0.34750943 0.99776215 0.48250722]]\n",
            "result  2\n",
            "-- [INFO] sold!\n",
            "\n",
            "\n",
            "-----------------------------\n",
            "\n",
            "\n",
            "[[0.33403253 0.81757448 0.65248884 0.06913852 0.81153253 0.3036463\n",
            "  0.34750943 0.99776215 0.48250722 0.70889005]]\n",
            "result  1\n",
            "-- [INFO] bought!\n",
            "\n",
            "\n",
            "-----------------------------\n",
            "\n",
            "\n",
            "[[0.81757448 0.65248884 0.06913852 0.81153253 0.3036463  0.34750943\n",
            "  0.99776215 0.48250722 0.70889005 0.11506742]]\n",
            "result  2\n",
            "-- [INFO] sold!\n",
            "\n",
            "\n",
            "-----------------------------\n",
            "\n",
            "\n",
            "[[0.65248884 0.06913852 0.81153253 0.3036463  0.34750943 0.99776215\n",
            "  0.48250722 0.70889005 0.11506742 0.82778248]]\n",
            "result  1\n",
            "-- [INFO] bought!\n",
            "\n",
            "\n",
            "-----------------------------\n",
            "\n",
            "\n",
            "[[0.06913852 0.81153253 0.3036463  0.34750943 0.99776215 0.48250722\n",
            "  0.70889005 0.11506742 0.82778248 0.97466752]]\n",
            "result  1\n",
            "-- [INFO] bought!\n",
            "\n",
            "\n",
            "-----------------------------\n",
            "\n",
            "\n",
            "[[0.81153253 0.3036463  0.34750943 0.99776215 0.48250722 0.70889005\n",
            "  0.11506742 0.82778248 0.97466752 0.28495827]]\n"
          ]
        },
        {
          "output_type": "stream",
          "name": "stderr",
          "text": [
            "  5%|▌         | 26/519 [00:01<00:19, 24.94it/s]"
          ]
        },
        {
          "output_type": "stream",
          "name": "stdout",
          "text": [
            "result  2\n",
            "-- [INFO] sold!\n",
            "\n",
            "\n",
            "-----------------------------\n",
            "\n",
            "\n",
            "[[0.3036463  0.34750943 0.99776215 0.48250722 0.70889005 0.11506742\n",
            "  0.82778248 0.97466752 0.28495827 0.73301907]]\n",
            "result  1\n",
            "-- [INFO] bought!\n",
            "\n",
            "\n",
            "-----------------------------\n",
            "\n",
            "\n",
            "[[0.34750943 0.99776215 0.48250722 0.70889005 0.11506742 0.82778248\n",
            "  0.97466752 0.28495827 0.73301907 0.99116361]]\n",
            "result  1\n",
            "-- [INFO] bought!\n",
            "\n",
            "\n",
            "-----------------------------\n",
            "\n",
            "\n",
            "[[0.99776215 0.48250722 0.70889005 0.11506742 0.82778248 0.97466752\n",
            "  0.28495827 0.73301907 0.99116361 0.13943299]]\n",
            "result  2\n",
            "-- [INFO] sold!\n",
            "\n",
            "\n",
            "-----------------------------\n",
            "\n",
            "\n",
            "[[0.48250722 0.70889005 0.11506742 0.82778248 0.97466752 0.28495827\n",
            "  0.73301907 0.99116361 0.13943299 0.2404902 ]]\n",
            "result  2\n",
            "-- [INFO] sold!\n",
            "\n",
            "\n",
            "-----------------------------\n",
            "\n",
            "\n",
            "[[0.70889005 0.11506742 0.82778248 0.97466752 0.28495827 0.73301907\n",
            "  0.99116361 0.13943299 0.2404902  0.26308434]]\n",
            "result  2\n",
            "-- [INFO] sold!\n",
            "\n",
            "\n",
            "-----------------------------\n",
            "\n",
            "\n",
            "[[0.11506742 0.82778248 0.97466752 0.28495827 0.73301907 0.99116361\n",
            "  0.13943299 0.2404902  0.26308434 0.03626376]]\n"
          ]
        },
        {
          "output_type": "stream",
          "name": "stderr",
          "text": [
            "  6%|▌         | 32/519 [00:01<00:19, 25.33it/s]"
          ]
        },
        {
          "output_type": "stream",
          "name": "stdout",
          "text": [
            "result  1\n",
            "-- [INFO] bought!\n",
            "\n",
            "\n",
            "-----------------------------\n",
            "\n",
            "\n",
            "[[0.82778248 0.97466752 0.28495827 0.73301907 0.99116361 0.13943299\n",
            "  0.2404902  0.26308434 0.03626376 0.83201711]]\n",
            "result  1\n",
            "-- [INFO] bought!\n",
            "\n",
            "\n",
            "-----------------------------\n",
            "\n",
            "\n",
            "[[0.97466752 0.28495827 0.73301907 0.99116361 0.13943299 0.2404902\n",
            "  0.26308434 0.03626376 0.83201711 0.01200925]]\n",
            "result  2\n",
            "-- [INFO] sold!\n",
            "\n",
            "\n",
            "-----------------------------\n",
            "\n",
            "\n",
            "[[0.28495827 0.73301907 0.99116361 0.13943299 0.2404902  0.26308434\n",
            "  0.03626376 0.83201711 0.01200925 0.98687468]]\n",
            "result  1\n",
            "-- [INFO] bought!\n",
            "\n",
            "\n",
            "-----------------------------\n",
            "\n",
            "\n",
            "[[0.73301907 0.99116361 0.13943299 0.2404902  0.26308434 0.03626376\n",
            "  0.83201711 0.01200925 0.98687468 0.7558398 ]]\n",
            "result  2\n",
            "-- [INFO] sold!\n",
            "\n",
            "\n",
            "-----------------------------\n",
            "\n",
            "\n",
            "[[0.99116361 0.13943299 0.2404902  0.26308434 0.03626376 0.83201711\n",
            "  0.01200925 0.98687468 0.7558398  0.04436152]]\n",
            "result  2\n",
            "-- [INFO] sold!\n",
            "\n",
            "\n",
            "-----------------------------\n",
            "\n",
            "\n",
            "[[0.13943299 0.2404902  0.26308434 0.03626376 0.83201711 0.01200925\n",
            "  0.98687468 0.7558398  0.04436152 0.45512292]]\n"
          ]
        },
        {
          "output_type": "stream",
          "name": "stderr",
          "text": [
            "  7%|▋         | 38/519 [00:01<00:19, 24.25it/s]"
          ]
        },
        {
          "output_type": "stream",
          "name": "stdout",
          "text": [
            "result  2\n",
            "-- [INFO] sold!\n",
            "\n",
            "\n",
            "-----------------------------\n",
            "\n",
            "\n",
            "[[0.2404902  0.26308434 0.03626376 0.83201711 0.01200925 0.98687468\n",
            "  0.7558398  0.04436152 0.45512292 0.88992707]]\n",
            "result  2\n",
            "-- [INFO] sold!\n",
            "\n",
            "\n",
            "-----------------------------\n",
            "\n",
            "\n",
            "[[0.26308434 0.03626376 0.83201711 0.01200925 0.98687468 0.7558398\n",
            "  0.04436152 0.45512292 0.88992707 0.12131929]]\n",
            "result  1\n",
            "-- [INFO] bought!\n",
            "\n",
            "\n",
            "-----------------------------\n",
            "\n",
            "\n",
            "[[0.03626376 0.83201711 0.01200925 0.98687468 0.7558398  0.04436152\n",
            "  0.45512292 0.88992707 0.12131929 0.1455418 ]]\n",
            "result  2\n",
            "-- [INFO] sold!\n",
            "\n",
            "\n",
            "-----------------------------\n",
            "\n",
            "\n",
            "[[0.83201711 0.01200925 0.98687468 0.7558398  0.04436152 0.45512292\n",
            "  0.88992707 0.12131929 0.1455418  0.66596747]]\n",
            "result  1\n",
            "-- [INFO] bought!\n",
            "\n",
            "\n",
            "-----------------------------\n",
            "\n",
            "\n",
            "[[0.01200925 0.98687468 0.7558398  0.04436152 0.45512292 0.88992707\n",
            "  0.12131929 0.1455418  0.66596747 0.98522592]]\n"
          ]
        },
        {
          "output_type": "stream",
          "name": "stderr",
          "text": [
            "  8%|▊         | 44/519 [00:01<00:19, 24.01it/s]"
          ]
        },
        {
          "output_type": "stream",
          "name": "stdout",
          "text": [
            "result  2\n",
            "-- [INFO] sold!\n",
            "\n",
            "\n",
            "-----------------------------\n",
            "\n",
            "\n",
            "[[0.98687468 0.7558398  0.04436152 0.45512292 0.88992707 0.12131929\n",
            "  0.1455418  0.66596747 0.98522592 0.99215495]]\n",
            "result  2\n",
            "-- [INFO] sold!\n",
            "\n",
            "\n",
            "-----------------------------\n",
            "\n",
            "\n",
            "[[0.7558398  0.04436152 0.45512292 0.88992707 0.12131929 0.1455418\n",
            "  0.66596747 0.98522592 0.99215495 0.90025061]]\n",
            "result  2\n",
            "-- [INFO] sold!\n",
            "\n",
            "\n",
            "-----------------------------\n",
            "\n",
            "\n",
            "[[0.04436152 0.45512292 0.88992707 0.12131929 0.1455418  0.66596747\n",
            "  0.98522592 0.99215495 0.90025061 0.97916347]]\n",
            "result  1\n",
            "-- [INFO] bought!\n",
            "\n",
            "\n",
            "-----------------------------\n",
            "\n",
            "\n",
            "[[0.45512292 0.88992707 0.12131929 0.1455418  0.66596747 0.98522592\n",
            "  0.99215495 0.90025061 0.97916347 0.559715  ]]\n",
            "result  1\n",
            "-- [INFO] bought!\n",
            "\n",
            "\n",
            "-----------------------------\n",
            "\n",
            "\n",
            "[[0.88992707 0.12131929 0.1455418  0.66596747 0.98522592 0.99215495\n",
            "  0.90025061 0.97916347 0.559715   0.24973875]]\n",
            "result  2\n",
            "-- [INFO] sold!\n",
            "\n",
            "\n",
            "-----------------------------\n",
            "\n",
            "\n",
            "[[0.12131929 0.1455418  0.66596747 0.98522592 0.99215495 0.90025061\n",
            "  0.97916347 0.559715   0.24973875 0.00689526]]\n"
          ]
        },
        {
          "output_type": "stream",
          "name": "stderr",
          "text": [
            " 10%|▉         | 50/519 [00:02<00:18, 24.82it/s]"
          ]
        },
        {
          "output_type": "stream",
          "name": "stdout",
          "text": [
            "result  2\n",
            "-- [INFO] sold!\n",
            "\n",
            "\n",
            "-----------------------------\n",
            "\n",
            "\n",
            "[[0.1455418  0.66596747 0.98522592 0.99215495 0.90025061 0.97916347\n",
            "  0.559715   0.24973875 0.00689526 0.00588182]]\n",
            "result  1\n",
            "-- [INFO] bought!\n",
            "\n",
            "\n",
            "-----------------------------\n",
            "\n",
            "\n",
            "[[0.66596747 0.98522592 0.99215495 0.90025061 0.97916347 0.559715\n",
            "  0.24973875 0.00689526 0.00588182 0.8984384 ]]\n",
            "result  1\n",
            "-- [INFO] bought!\n",
            "\n",
            "\n",
            "-----------------------------\n",
            "\n",
            "\n",
            "[[0.98522592 0.99215495 0.90025061 0.97916347 0.559715   0.24973875\n",
            "  0.00689526 0.00588182 0.8984384  0.70056842]]\n",
            "result  2\n",
            "-- [INFO] sold!\n",
            "\n",
            "\n",
            "-----------------------------\n",
            "\n",
            "\n",
            "[[0.99215495 0.90025061 0.97916347 0.559715   0.24973875 0.00689526\n",
            "  0.00588182 0.8984384  0.70056842 0.25922451]]\n",
            "result  1\n",
            "-- [INFO] bought!\n",
            "\n",
            "\n",
            "-----------------------------\n",
            "\n",
            "\n",
            "[[0.90025061 0.97916347 0.559715   0.24973875 0.00689526 0.00588182\n",
            "  0.8984384  0.70056842 0.25922451 0.96923105]]\n",
            "result  1\n",
            "-- [INFO] bought!\n",
            "\n",
            "\n",
            "-----------------------------\n",
            "\n",
            "\n",
            "[[0.97916347 0.559715   0.24973875 0.00689526 0.00588182 0.8984384\n",
            "  0.70056842 0.25922451 0.96923105 0.34750943]]\n"
          ]
        },
        {
          "output_type": "stream",
          "name": "stderr",
          "text": [
            "\r 10%|█         | 53/519 [00:02<00:19, 23.36it/s]"
          ]
        },
        {
          "output_type": "stream",
          "name": "stdout",
          "text": [
            "result  2\n",
            "-- [INFO] sold!\n",
            "\n",
            "\n",
            "-----------------------------\n",
            "\n",
            "\n",
            "[[0.559715   0.24973875 0.00689526 0.00588182 0.8984384  0.70056842\n",
            "  0.25922451 0.96923105 0.34750943 0.53743212]]\n",
            "result  2\n",
            "-- [INFO] sold!\n",
            "\n",
            "\n",
            "-----------------------------\n",
            "\n",
            "\n",
            "[[0.24973875 0.00689526 0.00588182 0.8984384  0.70056842 0.25922451\n",
            "  0.96923105 0.34750943 0.53743212 0.28904862]]\n",
            "result  2\n",
            "-- [INFO] sold!\n",
            "\n",
            "\n",
            "-----------------------------\n",
            "\n",
            "\n",
            "[[0.00689526 0.00588182 0.8984384  0.70056842 0.25922451 0.96923105\n",
            "  0.34750943 0.53743212 0.28904862 0.34978256]]\n",
            "result  1\n",
            "-- [INFO] bought!\n",
            "\n",
            "\n",
            "-----------------------------\n",
            "\n",
            "\n",
            "[[0.00588182 0.8984384  0.70056842 0.25922451 0.96923105 0.34750943\n",
            "  0.53743212 0.28904862 0.34978256 0.43536506]]\n",
            "result  1\n",
            "-- [INFO] bought!\n",
            "\n",
            "\n",
            "-----------------------------\n",
            "\n",
            "\n",
            "[[0.8984384  0.70056842 0.25922451 0.96923105 0.34750943 0.53743212\n",
            "  0.28904862 0.34978256 0.43536506 0.55971124]]\n"
          ]
        },
        {
          "output_type": "stream",
          "name": "stderr",
          "text": [
            " 11%|█▏        | 59/519 [00:02<00:19, 23.03it/s]"
          ]
        },
        {
          "output_type": "stream",
          "name": "stdout",
          "text": [
            "result  2\n",
            "-- [INFO] sold!\n",
            "\n",
            "\n",
            "-----------------------------\n",
            "\n",
            "\n",
            "[[0.70056842 0.25922451 0.96923105 0.34750943 0.53743212 0.28904862\n",
            "  0.34978256 0.43536506 0.55971124 0.1015616 ]]\n",
            "result  1\n",
            "-- [INFO] bought!\n",
            "\n",
            "\n",
            "-----------------------------\n",
            "\n",
            "\n",
            "[[0.25922451 0.96923105 0.34750943 0.53743212 0.28904862 0.34978256\n",
            "  0.43536506 0.55971124 0.1015616  0.08706529]]\n",
            "result  2\n",
            "-- [INFO] sold!\n",
            "\n",
            "\n",
            "-----------------------------\n",
            "\n",
            "\n",
            "[[0.96923105 0.34750943 0.53743212 0.28904862 0.34978256 0.43536506\n",
            "  0.55971124 0.1015616  0.08706529 0.24416302]]\n",
            "result  2\n",
            "-- [INFO] sold!\n",
            "\n",
            "\n",
            "-----------------------------\n",
            "\n",
            "\n",
            "[[0.34750943 0.53743212 0.28904862 0.34978256 0.43536506 0.55971124\n",
            "  0.1015616  0.08706529 0.24416302 0.539912  ]]\n",
            "result  2\n",
            "-- [INFO] sold!\n",
            "\n",
            "\n",
            "-----------------------------\n",
            "\n",
            "\n",
            "[[0.53743212 0.28904862 0.34978256 0.43536506 0.55971124 0.1015616\n",
            "  0.08706529 0.24416302 0.539912   0.02043229]]\n"
          ]
        },
        {
          "output_type": "stream",
          "name": "stderr",
          "text": [
            " 13%|█▎        | 65/519 [00:02<00:18, 24.58it/s]"
          ]
        },
        {
          "output_type": "stream",
          "name": "stdout",
          "text": [
            "result  2\n",
            "-- [INFO] sold!\n",
            "\n",
            "\n",
            "-----------------------------\n",
            "\n",
            "\n",
            "[[0.28904862 0.34978256 0.43536506 0.55971124 0.1015616  0.08706529\n",
            "  0.24416302 0.539912   0.02043229 0.46505721]]\n",
            "result  1\n",
            "-- [INFO] bought!\n",
            "\n",
            "\n",
            "-----------------------------\n",
            "\n",
            "\n",
            "[[0.34978256 0.43536506 0.55971124 0.1015616  0.08706529 0.24416302\n",
            "  0.539912   0.02043229 0.46505721 0.37519302]]\n",
            "result  2\n",
            "-- [INFO] sold!\n",
            "\n",
            "\n",
            "-----------------------------\n",
            "\n",
            "\n",
            "[[0.43536506 0.55971124 0.1015616  0.08706529 0.24416302 0.539912\n",
            "  0.02043229 0.46505721 0.37519302 0.01261715]]\n",
            "result  2\n",
            "-- [INFO] sold!\n",
            "\n",
            "\n",
            "-----------------------------\n",
            "\n",
            "\n",
            "[[0.55971124 0.1015616  0.08706529 0.24416302 0.539912   0.02043229\n",
            "  0.46505721 0.37519302 0.01261715 0.56709395]]\n",
            "result  2\n",
            "-- [INFO] sold!\n",
            "\n",
            "\n",
            "-----------------------------\n",
            "\n",
            "\n",
            "[[0.1015616  0.08706529 0.24416302 0.539912   0.02043229 0.46505721\n",
            "  0.37519302 0.01261715 0.56709395 0.99854312]]\n",
            "result  2\n",
            "-- [INFO] sold!\n",
            "\n",
            "\n",
            "-----------------------------\n",
            "\n",
            "\n",
            "[[0.08706529 0.24416302 0.539912   0.02043229 0.46505721 0.37519302\n",
            "  0.01261715 0.56709395 0.99854312 0.06476708]]\n"
          ]
        },
        {
          "output_type": "stream",
          "name": "stderr",
          "text": [
            " 14%|█▎        | 71/519 [00:02<00:18, 24.74it/s]"
          ]
        },
        {
          "output_type": "stream",
          "name": "stdout",
          "text": [
            "result  2\n",
            "-- [INFO] sold!\n",
            "\n",
            "\n",
            "-----------------------------\n",
            "\n",
            "\n",
            "[[0.24416302 0.539912   0.02043229 0.46505721 0.37519302 0.01261715\n",
            "  0.56709395 0.99854312 0.06476708 0.04478748]]\n",
            "result  2\n",
            "-- [INFO] sold!\n",
            "\n",
            "\n",
            "-----------------------------\n",
            "\n",
            "\n",
            "[[0.539912   0.02043229 0.46505721 0.37519302 0.01261715 0.56709395\n",
            "  0.99854312 0.06476708 0.04478748 0.12675055]]\n",
            "result  2\n",
            "-- [INFO] sold!\n",
            "\n",
            "\n",
            "-----------------------------\n",
            "\n",
            "\n",
            "[[0.02043229 0.46505721 0.37519302 0.01261715 0.56709395 0.99854312\n",
            "  0.06476708 0.04478748 0.12675055 0.78414734]]\n",
            "result  2\n",
            "-- [INFO] sold!\n",
            "\n",
            "\n",
            "-----------------------------\n",
            "\n",
            "\n",
            "[[0.46505721 0.37519302 0.01261715 0.56709395 0.99854312 0.06476708\n",
            "  0.04478748 0.12675055 0.78414734 0.00630556]]\n",
            "result  1\n",
            "-- [INFO] bought!\n",
            "\n",
            "\n",
            "-----------------------------\n",
            "\n",
            "\n",
            "[[0.37519302 0.01261715 0.56709395 0.99854312 0.06476708 0.04478748\n",
            "  0.12675055 0.78414734 0.00630556 0.99125072]]\n",
            "result  1\n",
            "-- [INFO] bought!\n",
            "\n",
            "\n",
            "-----------------------------\n",
            "\n",
            "\n",
            "[[0.01261715 0.56709395 0.99854312 0.06476708 0.04478748 0.12675055\n",
            "  0.78414734 0.00630556 0.99125072 0.2478722 ]]\n"
          ]
        },
        {
          "output_type": "stream",
          "name": "stderr",
          "text": [
            " 15%|█▍        | 77/519 [00:03<00:17, 24.85it/s]"
          ]
        },
        {
          "output_type": "stream",
          "name": "stdout",
          "text": [
            "result  1\n",
            "-- [INFO] bought!\n",
            "\n",
            "\n",
            "-----------------------------\n",
            "\n",
            "\n",
            "[[0.56709395 0.99854312 0.06476708 0.04478748 0.12675055 0.78414734\n",
            "  0.00630556 0.99125072 0.2478722  0.87868071]]\n",
            "result  2\n",
            "-- [INFO] sold!\n",
            "\n",
            "\n",
            "-----------------------------\n",
            "\n",
            "\n",
            "[[0.99854312 0.06476708 0.04478748 0.12675055 0.78414734 0.00630556\n",
            "  0.99125072 0.2478722  0.87868071 0.28292465]]\n",
            "result  2\n",
            "-- [INFO] sold!\n",
            "\n",
            "\n",
            "-----------------------------\n",
            "\n",
            "\n",
            "[[0.06476708 0.04478748 0.12675055 0.78414734 0.00630556 0.99125072\n",
            "  0.2478722  0.87868071 0.28292465 0.95073395]]\n",
            "result  2\n",
            "-- [INFO] sold!\n",
            "\n",
            "\n",
            "-----------------------------\n",
            "\n",
            "\n",
            "[[0.04478748 0.12675055 0.78414734 0.00630556 0.99125072 0.2478722\n",
            "  0.87868071 0.28292465 0.95073395 0.82920478]]\n",
            "result  1\n",
            "-- [INFO] bought!\n",
            "\n",
            "\n",
            "-----------------------------\n",
            "\n",
            "\n",
            "[[0.12675055 0.78414734 0.00630556 0.99125072 0.2478722  0.87868071\n",
            "  0.28292465 0.95073395 0.82920478 0.30789102]]\n",
            "result  2\n",
            "-- [INFO] sold!\n",
            "\n",
            "\n",
            "-----------------------------\n",
            "\n",
            "\n",
            "[[0.78414734 0.00630556 0.99125072 0.2478722  0.87868071 0.28292465\n",
            "  0.95073395 0.82920478 0.30789102 0.01434361]]\n"
          ]
        },
        {
          "output_type": "stream",
          "name": "stderr",
          "text": [
            " 16%|█▌        | 83/519 [00:03<00:17, 25.26it/s]"
          ]
        },
        {
          "output_type": "stream",
          "name": "stdout",
          "text": [
            "result  2\n",
            "-- [INFO] sold!\n",
            "\n",
            "\n",
            "-----------------------------\n",
            "\n",
            "\n",
            "[[0.00630556 0.99125072 0.2478722  0.87868071 0.28292465 0.95073395\n",
            "  0.82920478 0.30789102 0.01434361 0.36818737]]\n",
            "result  2\n",
            "-- [INFO] sold!\n",
            "\n",
            "\n",
            "-----------------------------\n",
            "\n",
            "\n",
            "[[0.99125072 0.2478722  0.87868071 0.28292465 0.95073395 0.82920478\n",
            "  0.30789102 0.01434361 0.36818737 0.96770458]]\n",
            "result  1\n",
            "-- [INFO] bought!\n",
            "\n",
            "\n",
            "-----------------------------\n",
            "\n",
            "\n",
            "[[0.2478722  0.87868071 0.28292465 0.95073395 0.82920478 0.30789102\n",
            "  0.01434361 0.36818737 0.96770458 0.29943318]]\n",
            "result  2\n",
            "-- [INFO] sold!\n",
            "\n",
            "\n",
            "-----------------------------\n",
            "\n",
            "\n",
            "[[0.87868071 0.28292465 0.95073395 0.82920478 0.30789102 0.01434361\n",
            "  0.36818737 0.96770458 0.29943318 0.07943821]]\n",
            "result  1\n",
            "-- [INFO] bought!\n",
            "\n",
            "\n",
            "-----------------------------\n",
            "\n",
            "\n",
            "[[0.28292465 0.95073395 0.82920478 0.30789102 0.01434361 0.36818737\n",
            "  0.96770458 0.29943318 0.07943821 0.62245933]]\n"
          ]
        },
        {
          "output_type": "stream",
          "name": "stderr",
          "text": [
            " 17%|█▋        | 89/519 [00:03<00:16, 25.35it/s]"
          ]
        },
        {
          "output_type": "stream",
          "name": "stdout",
          "text": [
            "result  1\n",
            "-- [INFO] bought!\n",
            "\n",
            "\n",
            "-----------------------------\n",
            "\n",
            "\n",
            "[[0.95073395 0.82920478 0.30789102 0.01434361 0.36818737 0.96770458\n",
            "  0.29943318 0.07943821 0.62245933 0.65021917]]\n",
            "result  2\n",
            "-- [INFO] sold!\n",
            "\n",
            "\n",
            "-----------------------------\n",
            "\n",
            "\n",
            "[[0.82920478 0.30789102 0.01434361 0.36818737 0.96770458 0.29943318\n",
            "  0.07943821 0.62245933 0.65021917 0.54487897]]\n",
            "result  2\n",
            "-- [INFO] sold!\n",
            "\n",
            "\n",
            "-----------------------------\n",
            "\n",
            "\n",
            "[[0.30789102 0.01434361 0.36818737 0.96770458 0.29943318 0.07943821\n",
            "  0.62245933 0.65021917 0.54487897 0.18392205]]\n",
            "result  2\n",
            "-- [INFO] sold!\n",
            "\n",
            "\n",
            "-----------------------------\n",
            "\n",
            "\n",
            "[[0.01434361 0.36818737 0.96770458 0.29943318 0.07943821 0.62245933\n",
            "  0.65021917 0.54487897 0.18392205 0.90465054]]\n",
            "result  1\n",
            "-- [INFO] bought!\n",
            "\n",
            "\n",
            "-----------------------------\n",
            "\n",
            "\n",
            "[[0.36818737 0.96770458 0.29943318 0.07943821 0.62245933 0.65021917\n",
            "  0.54487897 0.18392205 0.90465054 0.70056682]]\n",
            "result  2\n",
            "-- [INFO] sold!\n",
            "\n",
            "\n",
            "-----------------------------\n",
            "\n",
            "\n",
            "[[0.96770458 0.29943318 0.07943821 0.62245933 0.65021917 0.54487897\n",
            "  0.18392205 0.90465054 0.70056682 0.94784651]]\n"
          ]
        },
        {
          "output_type": "stream",
          "name": "stderr",
          "text": [
            " 18%|█▊        | 95/519 [00:03<00:16, 25.84it/s]"
          ]
        },
        {
          "output_type": "stream",
          "name": "stdout",
          "text": [
            "result  2\n",
            "-- [INFO] sold!\n",
            "\n",
            "\n",
            "-----------------------------\n",
            "\n",
            "\n",
            "[[0.29943318 0.07943821 0.62245933 0.65021917 0.54487897 0.18392205\n",
            "  0.90465054 0.70056682 0.94784651 0.57688467]]\n",
            "result  2\n",
            "-- [INFO] sold!\n",
            "\n",
            "\n",
            "-----------------------------\n",
            "\n",
            "\n",
            "[[0.07943821 0.62245933 0.65021917 0.54487897 0.18392205 0.90465054\n",
            "  0.70056682 0.94784651 0.57688467 0.84422448]]\n",
            "result  1\n",
            "-- [INFO] bought!\n",
            "\n",
            "\n",
            "-----------------------------\n",
            "\n",
            "\n",
            "[[0.62245933 0.65021917 0.54487897 0.18392205 0.90465054 0.70056682\n",
            "  0.94784651 0.57688467 0.84422448 0.9212896 ]]\n",
            "result  1\n",
            "-- [INFO] bought!\n",
            "\n",
            "\n",
            "-----------------------------\n",
            "\n",
            "\n",
            "[[0.65021917 0.54487897 0.18392205 0.90465054 0.70056682 0.94784651\n",
            "  0.57688467 0.84422448 0.9212896  0.93339193]]\n",
            "result  1\n",
            "-- [INFO] bought!\n",
            "\n",
            "\n",
            "-----------------------------\n",
            "\n",
            "\n",
            "[[0.54487897 0.18392205 0.90465054 0.70056682 0.94784651 0.57688467\n",
            "  0.84422448 0.9212896  0.93339193 0.14679103]]\n",
            "result  1\n",
            "-- [INFO] bought!\n",
            "\n",
            "\n",
            "-----------------------------\n",
            "\n",
            "\n",
            "[[0.18392205 0.90465054 0.70056682 0.94784651 0.57688467 0.84422448\n",
            "  0.9212896  0.93339193 0.14679103 0.96045573]]\n"
          ]
        },
        {
          "output_type": "stream",
          "name": "stderr",
          "text": [
            " 19%|█▉        | 101/519 [00:04<00:16, 25.41it/s]"
          ]
        },
        {
          "output_type": "stream",
          "name": "stdout",
          "text": [
            "result  1\n",
            "-- [INFO] bought!\n",
            "\n",
            "\n",
            "-----------------------------\n",
            "\n",
            "\n",
            "[[0.90465054 0.70056682 0.94784651 0.57688467 0.84422448 0.9212896\n",
            "  0.93339193 0.14679103 0.96045573 0.08317316]]\n",
            "result  1\n",
            "-- [INFO] bought!\n",
            "\n",
            "\n",
            "-----------------------------\n",
            "\n",
            "\n",
            "[[0.70056682 0.94784651 0.57688467 0.84422448 0.9212896  0.93339193\n",
            "  0.14679103 0.96045573 0.08317316 0.92201185]]\n",
            "result  1\n",
            "-- [INFO] bought!\n",
            "\n",
            "\n",
            "-----------------------------\n",
            "\n",
            "\n",
            "[[0.94784651 0.57688467 0.84422448 0.9212896  0.93339193 0.14679103\n",
            "  0.96045573 0.08317316 0.92201185 0.41581037]]\n",
            "result  1\n",
            "-- [INFO] bought!\n",
            "\n",
            "\n",
            "-----------------------------\n",
            "\n",
            "\n",
            "[[0.57688467 0.84422448 0.9212896  0.93339193 0.14679103 0.96045573\n",
            "  0.08317316 0.92201185 0.41581037 0.66373706]]\n",
            "result  1\n",
            "-- [INFO] bought!\n",
            "\n",
            "\n",
            "-----------------------------\n",
            "\n",
            "\n",
            "[[0.84422448 0.9212896  0.93339193 0.14679103 0.96045573 0.08317316\n",
            "  0.92201185 0.41581037 0.66373706 0.15058813]]\n",
            "result  1\n",
            "-- [INFO] bought!\n",
            "\n",
            "\n",
            "-----------------------------\n",
            "\n",
            "\n",
            "[[0.9212896  0.93339193 0.14679103 0.96045573 0.08317316 0.92201185\n",
            "  0.41581037 0.66373706 0.15058813 0.59628255]]\n"
          ]
        },
        {
          "output_type": "stream",
          "name": "stderr",
          "text": [
            "\r 20%|██        | 104/519 [00:04<00:16, 24.70it/s]"
          ]
        },
        {
          "output_type": "stream",
          "name": "stdout",
          "text": [
            "result  2\n",
            "-- [INFO] sold!\n",
            "\n",
            "\n",
            "-----------------------------\n",
            "\n",
            "\n",
            "[[0.93339193 0.14679103 0.96045573 0.08317316 0.92201185 0.41581037\n",
            "  0.66373706 0.15058813 0.59628255 0.173647  ]]\n",
            "result  2\n",
            "-- [INFO] sold!\n",
            "\n",
            "\n",
            "-----------------------------\n",
            "\n",
            "\n",
            "[[0.14679103 0.96045573 0.08317316 0.92201185 0.41581037 0.66373706\n",
            "  0.15058813 0.59628255 0.173647   0.91528981]]\n",
            "result  2\n",
            "-- [INFO] sold!\n",
            "\n",
            "\n",
            "-----------------------------\n",
            "\n",
            "\n",
            "[[0.96045573 0.08317316 0.92201185 0.41581037 0.66373706 0.15058813\n",
            "  0.59628255 0.173647   0.91528981 0.59868619]]\n",
            "result  1\n",
            "-- [INFO] bought!\n",
            "\n",
            "\n",
            "-----------------------------\n",
            "\n",
            "\n",
            "[[0.08317316 0.92201185 0.41581037 0.66373706 0.15058813 0.59628255\n",
            "  0.173647   0.91528981 0.59868619 0.41824018]]\n",
            "result  2\n",
            "-- [INFO] sold!\n",
            "\n",
            "\n",
            "-----------------------------\n",
            "\n",
            "\n",
            "[[0.92201185 0.41581037 0.66373706 0.15058813 0.59628255 0.173647\n",
            "  0.91528981 0.59868619 0.41824018 0.30789102]]\n",
            "result  1\n",
            "-- [INFO] bought!\n",
            "\n",
            "\n",
            "-----------------------------"
          ]
        },
        {
          "output_type": "stream",
          "name": "stderr",
          "text": [
            " 21%|██        | 110/519 [00:04<00:16, 24.08it/s]"
          ]
        },
        {
          "output_type": "stream",
          "name": "stdout",
          "text": [
            "\n",
            "\n",
            "\n",
            "[[0.41581037 0.66373706 0.15058813 0.59628255 0.173647   0.91528981\n",
            "  0.59868619 0.41824018 0.30789102 0.47501929]]\n",
            "result  2\n",
            "-- [INFO] sold!\n",
            "\n",
            "\n",
            "-----------------------------\n",
            "\n",
            "\n",
            "[[0.66373706 0.15058813 0.59628255 0.173647   0.91528981 0.59868619\n",
            "  0.41824018 0.30789102 0.47501929 0.11712013]]\n",
            "result  2\n",
            "-- [INFO] sold!\n",
            "\n",
            "\n",
            "-----------------------------\n",
            "\n",
            "\n",
            "[[0.15058813 0.59628255 0.173647   0.91528981 0.59868619 0.41824018\n",
            "  0.30789102 0.47501929 0.11712013 0.74649144]]\n",
            "result  1\n",
            "-- [INFO] bought!\n",
            "\n",
            "\n",
            "-----------------------------\n",
            "\n",
            "\n",
            "[[0.59628255 0.173647   0.91528981 0.59868619 0.41824018 0.30789102\n",
            "  0.47501929 0.11712013 0.74649144 0.00910311]]\n",
            "result  2\n",
            "-- [INFO] sold!\n",
            "\n",
            "\n",
            "-----------------------------\n",
            "\n",
            "\n",
            "[[0.173647   0.91528981 0.59868619 0.41824018 0.30789102 0.47501929\n",
            "  0.11712013 0.74649144 0.00910311 0.56217838]]\n"
          ]
        },
        {
          "output_type": "stream",
          "name": "stderr",
          "text": [
            " 22%|██▏       | 116/519 [00:04<00:16, 25.12it/s]"
          ]
        },
        {
          "output_type": "stream",
          "name": "stdout",
          "text": [
            "result  1\n",
            "-- [INFO] bought!\n",
            "\n",
            "\n",
            "-----------------------------\n",
            "\n",
            "\n",
            "[[0.91528981 0.59868619 0.41824018 0.30789102 0.47501929 0.11712013\n",
            "  0.74649144 0.00910311 0.56217838 0.83753485]]\n",
            "result  1\n",
            "-- [INFO] bought!\n",
            "\n",
            "\n",
            "-----------------------------\n",
            "\n",
            "\n",
            "[[0.59868619 0.41824018 0.30789102 0.47501929 0.11712013 0.74649144\n",
            "  0.00910311 0.56217838 0.83753485 0.61538405]]\n",
            "result  2\n",
            "-- [INFO] sold!\n",
            "\n",
            "\n",
            "-----------------------------\n",
            "\n",
            "\n",
            "[[0.41824018 0.30789102 0.47501929 0.11712013 0.74649144 0.00910311\n",
            "  0.56217838 0.83753485 0.61538405 0.03356896]]\n",
            "result  2\n",
            "-- [INFO] sold!\n",
            "\n",
            "\n",
            "-----------------------------\n",
            "\n",
            "\n",
            "[[0.30789102 0.47501929 0.11712013 0.74649144 0.00910311 0.56217838\n",
            "  0.83753485 0.61538405 0.03356896 0.28090139]]\n",
            "result  2\n",
            "-- [INFO] sold!\n",
            "\n",
            "\n",
            "-----------------------------\n",
            "\n",
            "\n",
            "[[0.47501929 0.11712013 0.74649144 0.00910311 0.56217838 0.83753485\n",
            "  0.61538405 0.03356896 0.28090139 0.04148684]]\n"
          ]
        },
        {
          "output_type": "stream",
          "name": "stderr",
          "text": [
            "\r 23%|██▎       | 119/519 [00:04<00:16, 23.78it/s]"
          ]
        },
        {
          "output_type": "stream",
          "name": "stdout",
          "text": [
            "result  2\n",
            "-- [INFO] sold!\n",
            "\n",
            "\n",
            "-----------------------------\n",
            "\n",
            "\n",
            "[[0.11712013 0.74649144 0.00910311 0.56217838 0.83753485 0.61538405\n",
            "  0.03356896 0.28090139 0.04148684 0.90024992]]\n",
            "result  1\n",
            "-- [INFO] bought!\n",
            "\n",
            "\n",
            "-----------------------------\n",
            "\n",
            "\n",
            "[[0.74649144 0.00910311 0.56217838 0.83753485 0.61538405 0.03356896\n",
            "  0.28090139 0.04148684 0.90024992 0.92272749]]\n",
            "result  2\n",
            "-- [INFO] sold!\n",
            "\n",
            "\n",
            "-----------------------------\n",
            "\n",
            "\n",
            "[[0.00910311 0.56217838 0.83753485 0.61538405 0.03356896 0.28090139\n",
            "  0.04148684 0.90024992 0.92272749 0.23505214]]\n",
            "result  2\n",
            "-- [INFO] sold!\n",
            "\n",
            "\n",
            "-----------------------------\n",
            "\n",
            "\n",
            "[[0.56217838 0.83753485 0.61538405 0.03356896 0.28090139 0.04148684\n",
            "  0.90024992 0.92272749 0.23505214 0.19466187]]\n",
            "result  2\n",
            "-- [INFO] sold!\n",
            "\n",
            "\n",
            "-----------------------------\n",
            "\n",
            "\n",
            "[[0.83753485 0.61538405 0.03356896 0.28090139 0.04148684 0.90024992\n",
            "  0.92272749 0.23505214 0.19466187 0.4600861 ]]\n"
          ]
        },
        {
          "output_type": "stream",
          "name": "stderr",
          "text": [
            " 24%|██▍       | 125/519 [00:05<00:17, 22.85it/s]"
          ]
        },
        {
          "output_type": "stream",
          "name": "stdout",
          "text": [
            "result  2\n",
            "-- [INFO] sold!\n",
            "\n",
            "\n",
            "-----------------------------\n",
            "\n",
            "\n",
            "[[0.61538405 0.03356896 0.28090139 0.04148684 0.90024992 0.92272749\n",
            "  0.23505214 0.19466187 0.4600861  0.9321374 ]]\n",
            "result  1\n",
            "-- [INFO] bought!\n",
            "\n",
            "\n",
            "-----------------------------\n",
            "\n",
            "\n",
            "[[0.03356896 0.28090139 0.04148684 0.90024992 0.92272749 0.23505214\n",
            "  0.19466187 0.4600861  0.9321374  0.13238919]]\n",
            "result  2\n",
            "-- [INFO] sold!\n",
            "\n",
            "\n",
            "-----------------------------\n",
            "\n",
            "\n",
            "[[0.28090139 0.04148684 0.90024992 0.92272749 0.23505214 0.19466187\n",
            "  0.4600861  0.9321374  0.13238919 0.84157558]]\n",
            "result  1\n",
            "-- [INFO] bought!\n",
            "\n",
            "\n",
            "-----------------------------\n",
            "\n",
            "\n",
            "[[0.04148684 0.90024992 0.92272749 0.23505214 0.19466187 0.4600861\n",
            "  0.9321374  0.13238919 0.84157558 0.45016676]]\n",
            "result  1\n",
            "-- [INFO] bought!\n",
            "\n",
            "\n",
            "-----------------------------\n",
            "\n",
            "\n",
            "[[0.90024992 0.92272749 0.23505214 0.19466187 0.4600861  0.9321374\n",
            "  0.13238919 0.84157558 0.45016676 0.48750184]]\n"
          ]
        },
        {
          "output_type": "stream",
          "name": "stderr",
          "text": [
            " 25%|██▌       | 131/519 [00:05<00:15, 24.67it/s]"
          ]
        },
        {
          "output_type": "stream",
          "name": "stdout",
          "text": [
            "result  2\n",
            "-- [INFO] sold!\n",
            "\n",
            "\n",
            "-----------------------------\n",
            "\n",
            "\n",
            "[[0.92272749 0.23505214 0.19466187 0.4600861  0.9321374  0.13238919\n",
            "  0.84157558 0.45016676 0.48750184 0.17221644]]\n",
            "result  2\n",
            "-- [INFO] sold!\n",
            "\n",
            "\n",
            "-----------------------------\n",
            "\n",
            "\n",
            "[[0.23505214 0.19466187 0.4600861  0.9321374  0.13238919 0.84157558\n",
            "  0.45016676 0.48750184 0.17221644 0.33849725]]\n",
            "result  2\n",
            "-- [INFO] sold!\n",
            "\n",
            "\n",
            "-----------------------------\n",
            "\n",
            "\n",
            "[[0.19466187 0.4600861  0.9321374  0.13238919 0.84157558 0.45016676\n",
            "  0.48750184 0.17221644 0.33849725 0.41824018]]\n",
            "result  1\n",
            "-- [INFO] bought!\n",
            "\n",
            "\n",
            "-----------------------------\n",
            "\n",
            "\n",
            "[[0.4600861  0.9321374  0.13238919 0.84157558 0.45016676 0.48750184\n",
            "  0.17221644 0.33849725 0.41824018 0.68567985]]\n",
            "result  2\n",
            "-- [INFO] sold!\n",
            "\n",
            "\n",
            "-----------------------------\n",
            "\n",
            "\n",
            "[[0.9321374  0.13238919 0.84157558 0.45016676 0.48750184 0.17221644\n",
            "  0.33849725 0.41824018 0.68567985 0.17946201]]\n",
            "result  1\n",
            "-- [INFO] bought!\n",
            "\n",
            "\n",
            "-----------------------------\n",
            "\n",
            "\n",
            "[[0.13238919 0.84157558 0.45016676 0.48750184 0.17221644 0.33849725\n",
            "  0.41824018 0.68567985 0.17946201 0.91293411]]\n"
          ]
        },
        {
          "output_type": "stream",
          "name": "stderr",
          "text": [
            " 26%|██▋       | 137/519 [00:05<00:15, 25.07it/s]"
          ]
        },
        {
          "output_type": "stream",
          "name": "stdout",
          "text": [
            "result  1\n",
            "-- [INFO] bought!\n",
            "\n",
            "\n",
            "-----------------------------\n",
            "\n",
            "\n",
            "[[0.84157558 0.45016676 0.48750184 0.17221644 0.33849725 0.41824018\n",
            "  0.68567985 0.17946201 0.91293411 0.50250051]]\n",
            "result  1\n",
            "-- [INFO] bought!\n",
            "\n",
            "\n",
            "-----------------------------\n",
            "\n",
            "\n",
            "[[0.45016676 0.48750184 0.17221644 0.33849725 0.41824018 0.68567985\n",
            "  0.17946201 0.91293411 0.50250051 0.69846444]]\n",
            "result  1\n",
            "-- [INFO] bought!\n",
            "\n",
            "\n",
            "-----------------------------\n",
            "\n",
            "\n",
            "[[0.48750184 0.17221644 0.33849725 0.41824018 0.68567985 0.17946201\n",
            "  0.91293411 0.50250051 0.69846444 0.59628255]]\n",
            "result  2\n",
            "-- [INFO] sold!\n",
            "\n",
            "\n",
            "-----------------------------\n",
            "\n",
            "\n",
            "[[0.17221644 0.33849725 0.41824018 0.68567985 0.17946201 0.91293411\n",
            "  0.50250051 0.69846444 0.59628255 0.26502805]]\n",
            "result  2\n",
            "-- [INFO] sold!\n",
            "\n",
            "\n",
            "-----------------------------\n",
            "\n",
            "\n",
            "[[0.33849725 0.41824018 0.68567985 0.17946201 0.91293411 0.50250051\n",
            "  0.69846444 0.59628255 0.26502805 0.77556364]]\n",
            "result  1\n",
            "-- [INFO] bought!\n",
            "\n",
            "\n",
            "-----------------------------\n",
            "\n",
            "\n",
            "[[0.41824018 0.68567985 0.17946201 0.91293411 0.50250051 0.69846444\n",
            "  0.59628255 0.26502805 0.77556364 0.95811328]]\n"
          ]
        },
        {
          "output_type": "stream",
          "name": "stderr",
          "text": [
            " 28%|██▊       | 143/519 [00:05<00:15, 24.25it/s]"
          ]
        },
        {
          "output_type": "stream",
          "name": "stdout",
          "text": [
            "result  2\n",
            "-- [INFO] sold!\n",
            "\n",
            "\n",
            "-----------------------------\n",
            "\n",
            "\n",
            "[[0.68567985 0.17946201 0.91293411 0.50250051 0.69846444 0.59628255\n",
            "  0.26502805 0.77556364 0.95811328 0.30153556]]\n",
            "result  1\n",
            "-- [INFO] bought!\n",
            "\n",
            "\n",
            "-----------------------------\n",
            "\n",
            "\n",
            "[[0.17946201 0.91293411 0.50250051 0.69846444 0.59628255 0.26502805\n",
            "  0.77556364 0.95811328 0.30153556 0.62480519]]\n",
            "result  1\n",
            "-- [INFO] bought!\n",
            "\n",
            "\n",
            "-----------------------------\n",
            "\n",
            "\n",
            "[[0.91293411 0.50250051 0.69846444 0.59628255 0.26502805 0.77556364\n",
            "  0.95811328 0.30153556 0.62480519 0.83753485]]\n",
            "result  1\n",
            "-- [INFO] bought!\n",
            "\n",
            "\n",
            "-----------------------------\n",
            "\n",
            "\n",
            "[[0.50250051 0.69846444 0.59628255 0.26502805 0.77556364 0.95811328\n",
            "  0.30153556 0.62480519 0.83753485 0.20916159]]\n",
            "result  2\n",
            "-- [INFO] sold!\n",
            "\n",
            "\n",
            "-----------------------------\n",
            "\n",
            "\n",
            "[[0.69846444 0.59628255 0.26502805 0.77556364 0.95811328 0.30153556\n",
            "  0.62480519 0.83753485 0.20916159 0.86294827]]\n"
          ]
        },
        {
          "output_type": "stream",
          "name": "stderr",
          "text": [
            " 29%|██▊       | 149/519 [00:06<00:14, 25.38it/s]"
          ]
        },
        {
          "output_type": "stream",
          "name": "stdout",
          "text": [
            "result  1\n",
            "-- [INFO] bought!\n",
            "\n",
            "\n",
            "-----------------------------\n",
            "\n",
            "\n",
            "[[0.59628255 0.26502805 0.77556364 0.95811328 0.30153556 0.62480519\n",
            "  0.83753485 0.20916159 0.86294827 0.84290356]]\n",
            "result  1\n",
            "-- [INFO] bought!\n",
            "\n",
            "\n",
            "-----------------------------\n",
            "\n",
            "\n",
            "[[0.26502805 0.77556364 0.95811328 0.30153556 0.62480519 0.83753485\n",
            "  0.20916159 0.86294827 0.84290356 0.43045408]]\n",
            "result  1\n",
            "-- [INFO] bought!\n",
            "\n",
            "\n",
            "-----------------------------\n",
            "\n",
            "\n",
            "[[0.77556364 0.95811328 0.30153556 0.62480519 0.83753485 0.20916159\n",
            "  0.86294827 0.84290356 0.43045408 0.42800551]]\n",
            "result  1\n",
            "-- [INFO] bought!\n",
            "\n",
            "\n",
            "-----------------------------\n",
            "\n",
            "\n",
            "[[0.95811328 0.30153556 0.62480519 0.83753485 0.20916159 0.86294827\n",
            "  0.84290356 0.43045408 0.42800551 0.42555674]]\n",
            "result  2\n",
            "-- [INFO] sold!\n",
            "\n",
            "\n",
            "-----------------------------\n",
            "\n",
            "\n",
            "[[0.30153556 0.62480519 0.83753485 0.20916159 0.86294827 0.84290356\n",
            "  0.43045408 0.42800551 0.42555674 0.84157558]]\n",
            "result  1\n",
            "-- [INFO] bought!\n",
            "\n",
            "\n",
            "-----------------------------\n",
            "\n",
            "\n",
            "[[0.62480519 0.83753485 0.20916159 0.86294827 0.84290356 0.43045408\n",
            "  0.42800551 0.42555674 0.84157558 0.82491417]]\n"
          ]
        },
        {
          "output_type": "stream",
          "name": "stderr",
          "text": [
            "\r 29%|██▉       | 152/519 [00:06<00:15, 23.89it/s]"
          ]
        },
        {
          "output_type": "stream",
          "name": "stdout",
          "text": [
            "result  1\n",
            "-- [INFO] bought!\n",
            "\n",
            "\n",
            "-----------------------------\n",
            "\n",
            "\n",
            "[[0.83753485 0.20916159 0.86294827 0.84290356 0.43045408 0.42800551\n",
            "  0.42555674 0.84157558 0.82491417 0.65249057]]\n",
            "result  1\n",
            "-- [INFO] bought!\n",
            "\n",
            "\n",
            "-----------------------------\n",
            "\n",
            "\n",
            "[[0.20916159 0.86294827 0.84290356 0.43045408 0.42800551 0.42555674\n",
            "  0.84157558 0.82491417 0.65249057 0.57688467]]\n",
            "result  1\n",
            "-- [INFO] bought!\n",
            "\n",
            "\n",
            "-----------------------------\n",
            "\n",
            "\n",
            "[[0.86294827 0.84290356 0.43045408 0.42800551 0.42555674 0.84157558\n",
            "  0.82491417 0.65249057 0.57688467 0.93643413]]\n",
            "result  1\n",
            "-- [INFO] bought!\n",
            "\n",
            "\n",
            "-----------------------------\n",
            "\n",
            "\n",
            "[[0.84290356 0.43045408 0.42800551 0.42555674 0.84157558 0.82491417\n",
            "  0.65249057 0.57688467 0.93643413 0.88695393]]\n",
            "result  1\n",
            "-- [INFO] bought!\n",
            "\n",
            "\n",
            "-----------------------------\n",
            "\n",
            "\n",
            "[[0.43045408 0.42800551 0.42555674 0.84157558 0.82491417 0.65249057\n",
            "  0.57688467 0.93643413 0.88695393 0.92757372]]\n"
          ]
        },
        {
          "output_type": "stream",
          "name": "stderr",
          "text": [
            " 30%|███       | 158/519 [00:06<00:15, 23.36it/s]"
          ]
        },
        {
          "output_type": "stream",
          "name": "stdout",
          "text": [
            "result  1\n",
            "-- [INFO] bought!\n",
            "\n",
            "\n",
            "-----------------------------\n",
            "\n",
            "\n",
            "[[0.42800551 0.42555674 0.84157558 0.82491417 0.65249057 0.57688467\n",
            "  0.93643413 0.88695393 0.92757372 0.20915906]]\n",
            "result  1\n",
            "-- [INFO] bought!\n",
            "\n",
            "\n",
            "-----------------------------\n",
            "\n",
            "\n",
            "[[0.42555674 0.84157558 0.82491417 0.65249057 0.57688467 0.93643413\n",
            "  0.88695393 0.92757372 0.20915906 0.86645771]]\n",
            "result  1\n",
            "-- [INFO] bought!\n",
            "\n",
            "\n",
            "-----------------------------\n",
            "\n",
            "\n",
            "[[0.84157558 0.82491417 0.65249057 0.57688467 0.93643413 0.88695393\n",
            "  0.92757372 0.20915906 0.86645771 0.35205906]]\n",
            "result  2\n",
            "-- [INFO] sold!\n",
            "\n",
            "\n",
            "-----------------------------\n",
            "\n",
            "\n",
            "[[0.82491417 0.65249057 0.57688467 0.93643413 0.88695393 0.92757372\n",
            "  0.20915906 0.86645771 0.35205906 0.75767953]]\n",
            "result  1\n",
            "-- [INFO] bought!\n",
            "\n",
            "\n",
            "-----------------------------\n",
            "\n",
            "\n",
            "[[0.65249057 0.57688467 0.93643413 0.88695393 0.92757372 0.20915906\n",
            "  0.86645771 0.35205906 0.75767953 0.97097081]]\n"
          ]
        },
        {
          "output_type": "stream",
          "name": "stderr",
          "text": [
            " 32%|███▏      | 164/519 [00:06<00:14, 23.67it/s]"
          ]
        },
        {
          "output_type": "stream",
          "name": "stdout",
          "text": [
            "result  1\n",
            "-- [INFO] bought!\n",
            "\n",
            "\n",
            "-----------------------------\n",
            "\n",
            "\n",
            "[[0.57688467 0.93643413 0.88695393 0.92757372 0.20915906 0.86645771\n",
            "  0.35205906 0.75767953 0.97097081 0.33849725]]\n",
            "result  1\n",
            "-- [INFO] bought!\n",
            "\n",
            "\n",
            "-----------------------------\n",
            "\n",
            "\n",
            "[[0.93643413 0.88695393 0.92757372 0.20915906 0.86645771 0.35205906\n",
            "  0.75767953 0.97097081 0.33849725 0.11007293]]\n",
            "result  2\n",
            "-- [INFO] sold!\n",
            "\n",
            "\n",
            "-----------------------------\n",
            "\n",
            "\n",
            "[[0.88695393 0.92757372 0.20915906 0.86645771 0.35205906 0.75767953\n",
            "  0.97097081 0.33849725 0.11007293 0.01907715]]\n",
            "result  2\n",
            "-- [INFO] sold!\n",
            "\n",
            "\n",
            "-----------------------------\n",
            "\n",
            "\n",
            "[[0.92757372 0.20915906 0.86645771 0.35205906 0.75767953 0.97097081\n",
            "  0.33849725 0.11007293 0.01907715 0.97587291]]\n",
            "result  1\n",
            "-- [INFO] bought!\n",
            "\n",
            "\n",
            "-----------------------------\n",
            "\n",
            "\n",
            "[[0.20915906 0.86645771 0.35205906 0.75767953 0.97097081 0.33849725\n",
            "  0.11007293 0.01907715 0.97587291 0.3208213 ]]\n"
          ]
        },
        {
          "output_type": "stream",
          "name": "stderr",
          "text": [
            "\r 32%|███▏      | 167/519 [00:06<00:14, 23.83it/s]"
          ]
        },
        {
          "output_type": "stream",
          "name": "stdout",
          "text": [
            "result  2\n",
            "-- [INFO] sold!\n",
            "\n",
            "\n",
            "-----------------------------\n",
            "\n",
            "\n",
            "[[0.86645771 0.35205906 0.75767953 0.97097081 0.33849725 0.11007293\n",
            "  0.01907715 0.97587291 0.3208213  0.80218534]]\n",
            "result  1\n",
            "-- [INFO] bought!\n",
            "\n",
            "\n",
            "-----------------------------\n",
            "\n",
            "\n",
            "[[0.35205906 0.75767953 0.97097081 0.33849725 0.11007293 0.01907715\n",
            "  0.97587291 0.3208213  0.80218534 0.85320897]]\n",
            "result  1\n",
            "-- [INFO] bought!\n",
            "\n",
            "\n",
            "-----------------------------\n",
            "\n",
            "\n",
            "[[0.75767953 0.97097081 0.33849725 0.11007293 0.01907715 0.97587291\n",
            "  0.3208213  0.80218534 0.85320897 0.60587556]]\n",
            "result  2\n",
            "-- [INFO] sold!\n",
            "\n",
            "\n",
            "-----------------------------\n",
            "\n",
            "\n",
            "[[0.97097081 0.33849725 0.11007293 0.01907715 0.97587291 0.3208213\n",
            "  0.80218534 0.85320897 0.60587556 0.0979687 ]]\n",
            "result  2\n",
            "-- [INFO] sold!\n",
            "\n",
            "\n",
            "-----------------------------\n",
            "\n",
            "\n",
            "[[0.33849725 0.11007293 0.01907715 0.97587291 0.3208213  0.80218534\n",
            "  0.85320897 0.60587556 0.0979687  0.14307168]]\n"
          ]
        },
        {
          "output_type": "stream",
          "name": "stderr",
          "text": [
            " 33%|███▎      | 170/519 [00:07<00:14, 24.07it/s]"
          ]
        },
        {
          "output_type": "stream",
          "name": "stdout",
          "text": [
            "result  2\n",
            "-- [INFO] sold!\n",
            "\n",
            "\n",
            "-----------------------------\n",
            "\n",
            "\n",
            "[[0.11007293 0.01907715 0.97587291 0.3208213  0.80218534 0.85320897\n",
            "  0.60587556 0.0979687  0.14307168 0.65926121]]\n"
          ]
        },
        {
          "output_type": "stream",
          "name": "stderr",
          "text": [
            "\n"
          ]
        },
        {
          "output_type": "error",
          "ename": "KeyboardInterrupt",
          "evalue": "",
          "traceback": [
            "\u001b[0;31m---------------------------------------------------------------------------\u001b[0m",
            "\u001b[0;31mKeyboardInterrupt\u001b[0m                         Traceback (most recent call last)",
            "\u001b[0;32m<ipython-input-32-a695dbd45486>\u001b[0m in \u001b[0;36m<cell line: 1>\u001b[0;34m()\u001b[0m\n\u001b[1;32m      2\u001b[0m   \u001b[0mstate\u001b[0m \u001b[0;34m=\u001b[0m \u001b[0mstate_creator\u001b[0m\u001b[0;34m(\u001b[0m\u001b[0mdata_test\u001b[0m\u001b[0;34m,\u001b[0m \u001b[0mt\u001b[0m \u001b[0;34m+\u001b[0m \u001b[0;36m1\u001b[0m\u001b[0;34m,\u001b[0m \u001b[0mwindow_size\u001b[0m \u001b[0;34m+\u001b[0m \u001b[0;36m1\u001b[0m\u001b[0;34m)\u001b[0m\u001b[0;34m[\u001b[0m\u001b[0;36m0\u001b[0m\u001b[0;34m]\u001b[0m\u001b[0;34m\u001b[0m\u001b[0;34m\u001b[0m\u001b[0m\n\u001b[1;32m      3\u001b[0m   \u001b[0mprint\u001b[0m\u001b[0;34m(\u001b[0m\u001b[0mstate\u001b[0m\u001b[0;34m)\u001b[0m\u001b[0;34m\u001b[0m\u001b[0;34m\u001b[0m\u001b[0m\n\u001b[0;32m----> 4\u001b[0;31m   \u001b[0maction\u001b[0m \u001b[0;34m=\u001b[0m \u001b[0mmodel\u001b[0m\u001b[0;34m.\u001b[0m\u001b[0mpredict\u001b[0m\u001b[0;34m(\u001b[0m\u001b[0mstate\u001b[0m\u001b[0;34m)\u001b[0m\u001b[0;34m\u001b[0m\u001b[0;34m\u001b[0m\u001b[0m\n\u001b[0m\u001b[1;32m      5\u001b[0m   \u001b[0mresult\u001b[0m \u001b[0;34m=\u001b[0m \u001b[0mnp\u001b[0m\u001b[0;34m.\u001b[0m\u001b[0margmax\u001b[0m\u001b[0;34m(\u001b[0m\u001b[0maction\u001b[0m\u001b[0;34m[\u001b[0m\u001b[0;36m0\u001b[0m\u001b[0;34m]\u001b[0m\u001b[0;34m)\u001b[0m\u001b[0;34m\u001b[0m\u001b[0;34m\u001b[0m\u001b[0m\n\u001b[1;32m      6\u001b[0m   \u001b[0mprint\u001b[0m\u001b[0;34m(\u001b[0m\u001b[0;34m\"result \"\u001b[0m\u001b[0;34m,\u001b[0m \u001b[0mresult\u001b[0m\u001b[0;34m)\u001b[0m\u001b[0;34m\u001b[0m\u001b[0;34m\u001b[0m\u001b[0m\n",
            "\u001b[0;32m/usr/local/lib/python3.10/dist-packages/keras/utils/traceback_utils.py\u001b[0m in \u001b[0;36merror_handler\u001b[0;34m(*args, **kwargs)\u001b[0m\n\u001b[1;32m     62\u001b[0m     \u001b[0mfiltered_tb\u001b[0m \u001b[0;34m=\u001b[0m \u001b[0;32mNone\u001b[0m\u001b[0;34m\u001b[0m\u001b[0;34m\u001b[0m\u001b[0m\n\u001b[1;32m     63\u001b[0m     \u001b[0;32mtry\u001b[0m\u001b[0;34m:\u001b[0m\u001b[0;34m\u001b[0m\u001b[0;34m\u001b[0m\u001b[0m\n\u001b[0;32m---> 64\u001b[0;31m       \u001b[0;32mreturn\u001b[0m \u001b[0mfn\u001b[0m\u001b[0;34m(\u001b[0m\u001b[0;34m*\u001b[0m\u001b[0margs\u001b[0m\u001b[0;34m,\u001b[0m \u001b[0;34m**\u001b[0m\u001b[0mkwargs\u001b[0m\u001b[0;34m)\u001b[0m\u001b[0;34m\u001b[0m\u001b[0;34m\u001b[0m\u001b[0m\n\u001b[0m\u001b[1;32m     65\u001b[0m     \u001b[0;32mexcept\u001b[0m \u001b[0mException\u001b[0m \u001b[0;32mas\u001b[0m \u001b[0me\u001b[0m\u001b[0;34m:\u001b[0m  \u001b[0;31m# pylint: disable=broad-except\u001b[0m\u001b[0;34m\u001b[0m\u001b[0;34m\u001b[0m\u001b[0m\n\u001b[1;32m     66\u001b[0m       \u001b[0mfiltered_tb\u001b[0m \u001b[0;34m=\u001b[0m \u001b[0m_process_traceback_frames\u001b[0m\u001b[0;34m(\u001b[0m\u001b[0me\u001b[0m\u001b[0;34m.\u001b[0m\u001b[0m__traceback__\u001b[0m\u001b[0;34m)\u001b[0m\u001b[0;34m\u001b[0m\u001b[0;34m\u001b[0m\u001b[0m\n",
            "\u001b[0;31mKeyboardInterrupt\u001b[0m: "
          ]
        }
      ]
    },
    {
      "cell_type": "code",
      "metadata": {
        "id": "HbYEfwHafnuc"
      },
      "source": [],
      "execution_count": null,
      "outputs": []
    }
  ]
}